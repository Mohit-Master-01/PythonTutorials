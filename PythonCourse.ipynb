{
  "nbformat": 4,
  "nbformat_minor": 0,
  "metadata": {
    "colab": {
      "provenance": []
    },
    "kernelspec": {
      "name": "python3",
      "display_name": "Python 3"
    },
    "language_info": {
      "name": "python"
    }
  },
  "cells": [
    {
      "cell_type": "code",
      "source": [
        "# print function\n",
        "print(\"Hello world\")"
      ],
      "metadata": {
        "colab": {
          "base_uri": "https://localhost:8080/"
        },
        "id": "jjXU3WOZ0Ngn",
        "outputId": "69739e4e-94f0-4fcd-ba84-d7f03920ce8a"
      },
      "execution_count": null,
      "outputs": [
        {
          "output_type": "stream",
          "name": "stdout",
          "text": [
            "Hello world\n"
          ]
        }
      ]
    },
    {
      "cell_type": "code",
      "source": [
        "#Variables\n",
        "a = 5\n",
        "a_5 = 6\n",
        "print(a_5)"
      ],
      "metadata": {
        "colab": {
          "base_uri": "https://localhost:8080/"
        },
        "id": "9hVabe3J0bo6",
        "outputId": "e0bc80f7-0b65-44fb-dc70-d4e40b98009c"
      },
      "execution_count": null,
      "outputs": [
        {
          "output_type": "stream",
          "name": "stdout",
          "text": [
            "6\n"
          ]
        }
      ]
    },
    {
      "cell_type": "code",
      "source": [
        "#In Python, the help() function is a built-in function that provides information about modules, classes, functions, and modules\n",
        "help(\"keywords\")"
      ],
      "metadata": {
        "colab": {
          "base_uri": "https://localhost:8080/"
        },
        "id": "kzCs2_-e1GE5",
        "outputId": "69283f04-5d0a-44fb-fc37-2f963d341491"
      },
      "execution_count": null,
      "outputs": [
        {
          "output_type": "stream",
          "name": "stdout",
          "text": [
            "\n",
            "Here is a list of the Python keywords.  Enter any keyword to get more help.\n",
            "\n",
            "False               class               from                or\n",
            "None                continue            global              pass\n",
            "True                def                 if                  raise\n",
            "and                 del                 import              return\n",
            "as                  elif                in                  try\n",
            "assert              else                is                  while\n",
            "async               except              lambda              with\n",
            "await               finally             nonlocal            yield\n",
            "break               for                 not                 \n",
            "\n"
          ]
        }
      ]
    },
    {
      "cell_type": "code",
      "source": [
        "#The id() function returns a unique id for the specified object.\n",
        "id(a)"
      ],
      "metadata": {
        "colab": {
          "base_uri": "https://localhost:8080/"
        },
        "id": "IWIQu6Pn1vze",
        "outputId": "82b28a1e-edea-4e02-ab50-b31a00a95e4b"
      },
      "execution_count": null,
      "outputs": [
        {
          "output_type": "execute_result",
          "data": {
            "text/plain": [
              "136752296116592"
            ]
          },
          "metadata": {},
          "execution_count": 7
        }
      ]
    },
    {
      "cell_type": "code",
      "source": [
        "#DataTypes\n",
        "number = 24\n",
        "f = 1.0\n",
        "b = True\n",
        "s = \"Mohit 123 @\"\n",
        "m = \"\"\"\n",
        "this is a multi line string\n",
        "\"\"\"\n",
        "n = None\n",
        "print(number,\",\",f,\",\",b,\",\",s,\",\",m,\",\",n)"
      ],
      "metadata": {
        "colab": {
          "base_uri": "https://localhost:8080/"
        },
        "id": "kV6wPVjmFt_-",
        "outputId": "093cecd0-31e8-4299-d6a3-0832d25dfd56"
      },
      "execution_count": null,
      "outputs": [
        {
          "output_type": "stream",
          "name": "stdout",
          "text": [
            "24 , 1.0 , True , Mohit 123 @ , \n",
            "this is a multi line string\n",
            " , None\n"
          ]
        }
      ]
    },
    {
      "cell_type": "code",
      "source": [
        "#The type() function returns a type object that represents the type of the passed argument.\n",
        "print(type(number),\",\", type(f),\",\",type(b),\",\",type(s),\",\",type(m),\",\",type(n))\n"
      ],
      "metadata": {
        "colab": {
          "base_uri": "https://localhost:8080/"
        },
        "id": "6bxAGMgyK6jN",
        "outputId": "01c030bf-eb9a-4d42-fc4a-13d06124da77"
      },
      "execution_count": null,
      "outputs": [
        {
          "output_type": "stream",
          "name": "stdout",
          "text": [
            "<class 'int'> , <class 'float'> , <class 'bool'> , <class 'str'> , <class 'str'> , <class 'NoneType'>\n"
          ]
        }
      ]
    },
    {
      "cell_type": "code",
      "source": [
        "#The input() function allows user input.\n",
        "name = input()"
      ],
      "metadata": {
        "colab": {
          "base_uri": "https://localhost:8080/"
        },
        "id": "0r7lIyTcLWjv",
        "outputId": "9a62b09e-a5ba-48a6-ff10-f1254e915585"
      },
      "execution_count": null,
      "outputs": [
        {
          "name": "stdout",
          "output_type": "stream",
          "text": [
            "Mohit\n"
          ]
        }
      ]
    },
    {
      "cell_type": "code",
      "source": [
        "type(name)"
      ],
      "metadata": {
        "colab": {
          "base_uri": "https://localhost:8080/"
        },
        "id": "kngQC-YQOlbZ",
        "outputId": "42dcb720-2e58-4078-930e-081c4b559916"
      },
      "execution_count": null,
      "outputs": [
        {
          "output_type": "execute_result",
          "data": {
            "text/plain": [
              "str"
            ]
          },
          "metadata": {},
          "execution_count": 30
        }
      ]
    },
    {
      "cell_type": "code",
      "source": [
        "#Type conversion\n",
        "x = input()"
      ],
      "metadata": {
        "colab": {
          "base_uri": "https://localhost:8080/"
        },
        "id": "bKOhKbpBO2cn",
        "outputId": "96d028bc-da66-4e99-f78e-0b2518c8f9eb"
      },
      "execution_count": null,
      "outputs": [
        {
          "name": "stdout",
          "output_type": "stream",
          "text": [
            "5\n"
          ]
        }
      ]
    },
    {
      "cell_type": "code",
      "source": [
        "y = float(x)\n",
        "print(y,\",\" ,type(y))"
      ],
      "metadata": {
        "colab": {
          "base_uri": "https://localhost:8080/"
        },
        "id": "GB3UOFmcPCuc",
        "outputId": "d61ab70a-f003-41f1-f68d-836563ada2b3"
      },
      "execution_count": null,
      "outputs": [
        {
          "output_type": "stream",
          "name": "stdout",
          "text": [
            "5.0\n"
          ]
        }
      ]
    },
    {
      "cell_type": "code",
      "source": [
        "c = float(\"1.5\")\n",
        "type(c)"
      ],
      "metadata": {
        "colab": {
          "base_uri": "https://localhost:8080/"
        },
        "id": "iMM-Dx9Aam0_",
        "outputId": "ca3ba995-b4c9-4df2-8b06-164c993243e3"
      },
      "execution_count": null,
      "outputs": [
        {
          "output_type": "execute_result",
          "data": {
            "text/plain": [
              "float"
            ]
          },
          "metadata": {},
          "execution_count": 34
        }
      ]
    },
    {
      "cell_type": "code",
      "source": [
        "int(c)"
      ],
      "metadata": {
        "colab": {
          "base_uri": "https://localhost:8080/"
        },
        "id": "uD0dKw4-tQpS",
        "outputId": "153d91e1-5b25-4f56-d0b5-2e19521648ce"
      },
      "execution_count": null,
      "outputs": [
        {
          "output_type": "execute_result",
          "data": {
            "text/plain": [
              "1"
            ]
          },
          "metadata": {},
          "execution_count": 35
        }
      ]
    },
    {
      "cell_type": "code",
      "source": [
        "#printing multiple values using print function\n",
        "print(\"Mohit\")"
      ],
      "metadata": {
        "colab": {
          "base_uri": "https://localhost:8080/"
        },
        "id": "VYNxtSYxtlKo",
        "outputId": "844df0a1-fec0-42aa-e2f2-79bf86eb268b"
      },
      "execution_count": null,
      "outputs": [
        {
          "output_type": "stream",
          "name": "stdout",
          "text": [
            "Mohit\n"
          ]
        }
      ]
    },
    {
      "cell_type": "code",
      "source": [
        "#The sep parameter of the print() function is used to specify the separator between the strings\n",
        "print(\"Mohit\",\"Priya\",\"17\",\"04\",\"2004\",\"2005\",sep=\" , \")\n",
        "print(\"Mohit\",\"20\",sep=\"\\n\")"
      ],
      "metadata": {
        "id": "GdcVL3iqtuji",
        "colab": {
          "base_uri": "https://localhost:8080/"
        },
        "outputId": "7cdca3c6-6e8e-45b1-8f04-ec291e5b33f8"
      },
      "execution_count": null,
      "outputs": [
        {
          "output_type": "stream",
          "name": "stdout",
          "text": [
            "Mohit , Priya , 17 , 04 , 2004 , 2005\n",
            "Mohit\n",
            "20\n"
          ]
        }
      ]
    },
    {
      "cell_type": "code",
      "source": [
        "#The end parameter in the print function is used to add any string\n",
        "print(\"Mohit\",\"20\",end=\" \", sep=\"->\")\n",
        "print(\"Priya\",\"20\",sep=\"->\")"
      ],
      "metadata": {
        "colab": {
          "base_uri": "https://localhost:8080/"
        },
        "id": "2NbT-jyqouS1",
        "outputId": "dfe6dfa7-de74-4f53-d0e3-27bb4422d9e2"
      },
      "execution_count": null,
      "outputs": [
        {
          "output_type": "stream",
          "name": "stdout",
          "text": [
            "Mohit->20 Priya->20\n"
          ]
        }
      ]
    },
    {
      "cell_type": "code",
      "source": [
        "#Special operators\n",
        "#in operator tells you if an object is part of other object or not\n",
        "\n",
        "name = \"Rahul Janghu\"\n",
        "print(\"R\" in name)\n",
        "print(\"r\" in name)\n"
      ],
      "metadata": {
        "id": "7BaPmDwGtLeO",
        "colab": {
          "base_uri": "https://localhost:8080/"
        },
        "outputId": "32d1f118-6890-4793-d948-5c46e4bba66e"
      },
      "execution_count": null,
      "outputs": [
        {
          "output_type": "stream",
          "name": "stdout",
          "text": [
            "True\n",
            "False\n"
          ]
        }
      ]
    },
    {
      "cell_type": "code",
      "source": [
        "#is operator tells you if both the object are at same memory location\n",
        "a = 5\n",
        "b = 5\n",
        "\n",
        "print(id(a), id(b))\n",
        "\n",
        "a is b"
      ],
      "metadata": {
        "colab": {
          "base_uri": "https://localhost:8080/"
        },
        "id": "6DTEQ3Uujvyl",
        "outputId": "4ae34ac1-14c0-4576-a245-2b9923371654"
      },
      "execution_count": null,
      "outputs": [
        {
          "output_type": "stream",
          "name": "stdout",
          "text": [
            "137829884772720 137829884772720\n"
          ]
        },
        {
          "output_type": "execute_result",
          "data": {
            "text/plain": [
              "True"
            ]
          },
          "metadata": {},
          "execution_count": 5
        }
      ]
    },
    {
      "cell_type": "code",
      "source": [
        "#if else syntax\n",
        "age = int(input())\n",
        "\n",
        "if age > 18:\n",
        "  print(\"You are eligible\")\n",
        "  print(\"drive slow\")\n",
        "else:\n",
        "  print(\"Age should not be less than 18\")"
      ],
      "metadata": {
        "colab": {
          "base_uri": "https://localhost:8080/"
        },
        "id": "Owh5Al9Olmpc",
        "outputId": "30f714e3-d0f6-4fba-9706-0e4743deccab"
      },
      "execution_count": null,
      "outputs": [
        {
          "output_type": "stream",
          "name": "stdout",
          "text": [
            "19\n",
            "You are eligible\n",
            "drive slow\n"
          ]
        }
      ]
    },
    {
      "cell_type": "code",
      "source": [
        "#Nested if else\n",
        "\n",
        "age = int(input())\n",
        "\n",
        "if age > 18:\n",
        "  if age >= 65:\n",
        "    print(\"Take rest\")\n",
        "  else:\n",
        "    print(\"You are eligible\")\n",
        "    print(\"drive slow\")\n",
        "else:\n",
        "  print(\"Age should not be less than 18\")"
      ],
      "metadata": {
        "colab": {
          "base_uri": "https://localhost:8080/"
        },
        "id": "EppOHTj9mByQ",
        "outputId": "3a60c192-22c6-4554-e084-2ea6954c1801"
      },
      "execution_count": null,
      "outputs": [
        {
          "output_type": "stream",
          "name": "stdout",
          "text": [
            "18\n",
            "Age should not be less than 18\n"
          ]
        }
      ]
    },
    {
      "cell_type": "code",
      "source": [
        "#if, elif and else\n",
        "num = int(input())\n",
        "\n",
        "if num > 0:\n",
        "  print(\"Positive\")\n",
        "if num == 0:\n",
        "  print(\"Zero\")\n",
        "else:\n",
        "  print(\"Negative\")"
      ],
      "metadata": {
        "colab": {
          "base_uri": "https://localhost:8080/"
        },
        "id": "nfQUUxolnV_T",
        "outputId": "99902796-5560-4538-dee5-7abbaeadaa50"
      },
      "execution_count": null,
      "outputs": [
        {
          "output_type": "stream",
          "name": "stdout",
          "text": [
            "12\n",
            "Positive\n",
            "Negative\n"
          ]
        }
      ]
    },
    {
      "cell_type": "code",
      "source": [
        "num = int(input())\n",
        "\n",
        "if num > 0:\n",
        "  print(\"Positive\")\n",
        "elif num == 0:\n",
        "  print(\"Zero\")\n",
        "else:\n",
        "  print(\"Negative\")"
      ],
      "metadata": {
        "colab": {
          "base_uri": "https://localhost:8080/"
        },
        "id": "pB2z9i8IoklA",
        "outputId": "200efea4-be9e-4564-a72d-f9241966f85d"
      },
      "execution_count": null,
      "outputs": [
        {
          "output_type": "stream",
          "name": "stdout",
          "text": [
            "12\n",
            "Positive\n"
          ]
        }
      ]
    },
    {
      "cell_type": "code",
      "source": [
        "#Find maximum\n",
        "\n",
        "marks = [90,30,100,50,80,95]\n",
        "\n",
        "highest = marks[0]\n",
        "for i in marks:\n",
        "  if i > highest:\n",
        "    highest = i\n",
        "\n",
        "print(highest)\n",
        "max(marks)\n",
        "min(marks)"
      ],
      "metadata": {
        "colab": {
          "base_uri": "https://localhost:8080/"
        },
        "id": "WiL5G3wVpEZ0",
        "outputId": "d1ec515b-1890-4fd2-cc36-3e3aebfc470b"
      },
      "execution_count": null,
      "outputs": [
        {
          "output_type": "stream",
          "name": "stdout",
          "text": [
            "100\n"
          ]
        },
        {
          "output_type": "execute_result",
          "data": {
            "text/plain": [
              "30"
            ]
          },
          "metadata": {},
          "execution_count": 18
        }
      ]
    },
    {
      "cell_type": "code",
      "source": [
        "#while loop\n",
        "i = 1\n",
        "#loop condition\n",
        "while i <= 6:\n",
        "  #inside body\n",
        "  print(\"You are the best\")\n",
        "\n",
        "  #update\n",
        "  i += 1\n"
      ],
      "metadata": {
        "colab": {
          "base_uri": "https://localhost:8080/"
        },
        "id": "EsCOoyF108g_",
        "outputId": "1fb16f44-404a-402a-9559-811aeb729a37"
      },
      "execution_count": null,
      "outputs": [
        {
          "output_type": "stream",
          "name": "stdout",
          "text": [
            "You are the best\n",
            "You are the best\n",
            "You are the best\n",
            "You are the best\n",
            "You are the best\n",
            "You are the best\n"
          ]
        }
      ]
    },
    {
      "cell_type": "code",
      "source": [
        "#Print all numbers from 1 to 10\n",
        "\n",
        "i = 1\n",
        "\n",
        "while i <= 10:\n",
        "  print(i,end=\" \")\n",
        "  i += 1"
      ],
      "metadata": {
        "colab": {
          "base_uri": "https://localhost:8080/"
        },
        "id": "54GICDdsqiMt",
        "outputId": "bccb8d55-5083-40d0-9490-63eb3d886728"
      },
      "execution_count": null,
      "outputs": [
        {
          "output_type": "stream",
          "name": "stdout",
          "text": [
            "1 2 3 4 5 6 7 8 9 10 "
          ]
        }
      ]
    },
    {
      "cell_type": "code",
      "source": [
        "#Print all even numbers from 0 to 10\n",
        "\n",
        "i = 0\n",
        "\n",
        "while i <= 10:\n",
        "  if i % 2 == 0:\n",
        "    print(i, end=\" \")\n",
        "\n",
        "  i += 1"
      ],
      "metadata": {
        "colab": {
          "base_uri": "https://localhost:8080/"
        },
        "id": "veMqLtpnq3j-",
        "outputId": "f0f3fd79-6e55-474c-89a8-8e05b0fecf67"
      },
      "execution_count": null,
      "outputs": [
        {
          "output_type": "stream",
          "name": "stdout",
          "text": [
            "0 2 4 6 8 10 "
          ]
        }
      ]
    },
    {
      "cell_type": "code",
      "source": [
        "#Print sum of all numbers from 0 to 10\n",
        "i = 1\n",
        "\n",
        "while i <= 10:\n",
        "  print(i,end=\" \")\n",
        "\n",
        "  i += 1"
      ],
      "metadata": {
        "id": "xbNflHcqsxsQ"
      },
      "execution_count": null,
      "outputs": []
    },
    {
      "cell_type": "code",
      "source": [
        "#Print sum of all numbers from 1 to 10\n",
        "\n",
        "i = 1\n",
        "add = 0\n",
        "\n",
        "while i <= 10:\n",
        "  add += i\n",
        "  print(add,end=\" \")\n",
        "\n",
        "  i+=1\n",
        "print(add)"
      ],
      "metadata": {
        "colab": {
          "base_uri": "https://localhost:8080/"
        },
        "id": "SGdPMPxz8pka",
        "outputId": "f73aa0a9-80f6-45b6-f395-a54720e32e2b"
      },
      "execution_count": null,
      "outputs": [
        {
          "output_type": "stream",
          "name": "stdout",
          "text": [
            "1 3 6 10 15 21 28 36 45 55 55\n"
          ]
        }
      ]
    },
    {
      "cell_type": "code",
      "source": [
        "#Range function - allow users to generate series of numbers\n",
        "#It is iterable as well\n",
        "#Here start is 0 and jump is 1\n",
        "print(range(5))\n",
        "list(range(5))\n"
      ],
      "metadata": {
        "colab": {
          "base_uri": "https://localhost:8080/"
        },
        "id": "yJbzkUDS9q-F",
        "outputId": "b1173797-268b-48a4-87c5-307a21434b14"
      },
      "execution_count": null,
      "outputs": [
        {
          "output_type": "stream",
          "name": "stdout",
          "text": [
            "range(0, 5)\n"
          ]
        },
        {
          "output_type": "execute_result",
          "data": {
            "text/plain": [
              "[0, 1, 2, 3, 4]"
            ]
          },
          "metadata": {},
          "execution_count": 11
        }
      ]
    },
    {
      "cell_type": "code",
      "source": [
        "#By default jimp here will be 1\n",
        "list(range(1,5))"
      ],
      "metadata": {
        "colab": {
          "base_uri": "https://localhost:8080/"
        },
        "id": "2O6B7EV2-ZQJ",
        "outputId": "5909acfa-8e3f-488d-fe2c-845484a32f45"
      },
      "execution_count": null,
      "outputs": [
        {
          "output_type": "execute_result",
          "data": {
            "text/plain": [
              "[1, 2, 3, 4]"
            ]
          },
          "metadata": {},
          "execution_count": 12
        }
      ]
    },
    {
      "cell_type": "code",
      "source": [
        "#Start is included and end is excluded\n",
        "list(range(2,5))"
      ],
      "metadata": {
        "colab": {
          "base_uri": "https://localhost:8080/"
        },
        "id": "2eBtH_B4-uve",
        "outputId": "3425caaa-f978-47fe-841a-89e1fd1bc2af"
      },
      "execution_count": null,
      "outputs": [
        {
          "output_type": "execute_result",
          "data": {
            "text/plain": [
              "[2, 3, 4]"
            ]
          },
          "metadata": {},
          "execution_count": 13
        }
      ]
    },
    {
      "cell_type": "code",
      "source": [
        "print(list(range(1,10,2)))\n",
        "print(list(range(10,1,1)))\n",
        "print(list(range(10,1,-1)))\n",
        "print(list(range(10,0,-2)))\n",
        "print(list(range(-1,10)))"
      ],
      "metadata": {
        "colab": {
          "base_uri": "https://localhost:8080/"
        },
        "id": "BnPahO49-3r5",
        "outputId": "61f64ff2-61d1-4f5e-9f1c-bf7dc29a0a91"
      },
      "execution_count": null,
      "outputs": [
        {
          "output_type": "stream",
          "name": "stdout",
          "text": [
            "[1, 3, 5, 7, 9]\n",
            "[]\n",
            "[10, 9, 8, 7, 6, 5, 4, 3, 2]\n",
            "[10, 8, 6, 4, 2]\n",
            "[-1, 0, 1, 2, 3, 4, 5, 6, 7, 8, 9]\n"
          ]
        }
      ]
    },
    {
      "cell_type": "code",
      "source": [
        "#For loop\n",
        "#i : iterator, range() : iterable\n",
        "for i in range(1,11):\n",
        "  print(i, end=\",\")\n"
      ],
      "metadata": {
        "colab": {
          "base_uri": "https://localhost:8080/"
        },
        "id": "Pj7KMep6_JOq",
        "outputId": "b487bf96-0a03-4517-a301-c1d39173cc74"
      },
      "execution_count": null,
      "outputs": [
        {
          "output_type": "stream",
          "name": "stdout",
          "text": [
            "1,2,3,4,5,6,7,8,9,10,"
          ]
        }
      ]
    },
    {
      "cell_type": "code",
      "source": [
        "#Print multiplication table of 5\n",
        "\n",
        "n = int(input())\n",
        "\n",
        "for i in range(1,11):\n",
        "  print(n,\"*\",i,\"=\",i*n)"
      ],
      "metadata": {
        "colab": {
          "base_uri": "https://localhost:8080/"
        },
        "id": "4KR5fGvXwhaH",
        "outputId": "ebafe4ec-e9f8-4955-d96d-b874d764ba20"
      },
      "execution_count": null,
      "outputs": [
        {
          "output_type": "stream",
          "name": "stdout",
          "text": [
            "5\n",
            "5 * 1 = 5\n",
            "5 * 2 = 10\n",
            "5 * 3 = 15\n",
            "5 * 4 = 20\n",
            "5 * 5 = 25\n",
            "5 * 6 = 30\n",
            "5 * 7 = 35\n",
            "5 * 8 = 40\n",
            "5 * 9 = 45\n",
            "5 * 10 = 50\n"
          ]
        }
      ]
    },
    {
      "cell_type": "code",
      "source": [
        "#Print pattern 1\n",
        "\n",
        "for i in range(4):\n",
        "  for j in  range(4):\n",
        "    print(\"#\",end=\" \")\n",
        "  print()#brings into new line"
      ],
      "metadata": {
        "colab": {
          "base_uri": "https://localhost:8080/"
        },
        "id": "ClLOKhaGzK6D",
        "outputId": "ba06615a-3e3f-462d-f3ce-6f529d0c081c"
      },
      "execution_count": null,
      "outputs": [
        {
          "output_type": "stream",
          "name": "stdout",
          "text": [
            "# # # # \n",
            "# # # # \n",
            "# # # # \n",
            "# # # # \n"
          ]
        }
      ]
    },
    {
      "cell_type": "code",
      "source": [
        "#Print pattern 2\n",
        "\n",
        "n = int(input())\n",
        "\n",
        "for i in range(1,n+1):\n",
        "  for j in range(i):\n",
        "    print(\"#\",end=\" \")\n",
        "  print()"
      ],
      "metadata": {
        "colab": {
          "base_uri": "https://localhost:8080/"
        },
        "id": "et1iWm6U0gLn",
        "outputId": "5adeddd2-2ecb-46a3-af85-87e2dfd2493c"
      },
      "execution_count": null,
      "outputs": [
        {
          "output_type": "stream",
          "name": "stdout",
          "text": [
            "4\n",
            "# \n",
            "# # \n",
            "# # # \n",
            "# # # # \n"
          ]
        }
      ]
    },
    {
      "cell_type": "code",
      "source": [
        "#Break, Continue and Pass\n",
        "#use to alter the flow of a program\n",
        "#break : breaks the flow of program once this condition is hit\n",
        "#continue : skips that particular iteration\n",
        "#pass : to avoid syntax error\n",
        "\n",
        "for i in range(1,10):\n",
        "  pass"
      ],
      "metadata": {
        "id": "41ldSuxw1oNe"
      },
      "execution_count": null,
      "outputs": []
    },
    {
      "cell_type": "code",
      "source": [
        "#continue\n",
        "\n",
        "for i in range(1,10):\n",
        "  if i == 5:\n",
        "    continue\n",
        "  print(i,end=\" \")"
      ],
      "metadata": {
        "colab": {
          "base_uri": "https://localhost:8080/"
        },
        "id": "GpaRTDqP2YF8",
        "outputId": "4cf88ec4-cdcc-4c90-8e2b-0fcbc4b3468b"
      },
      "execution_count": null,
      "outputs": [
        {
          "output_type": "stream",
          "name": "stdout",
          "text": [
            "1 2 3 4 6 7 8 9 "
          ]
        }
      ]
    },
    {
      "cell_type": "code",
      "source": [
        "#break\n",
        "\n",
        "for i in range(1,10):\n",
        "  if i == 5:\n",
        "    break\n",
        "  print(i,end=\" \")"
      ],
      "metadata": {
        "colab": {
          "base_uri": "https://localhost:8080/"
        },
        "id": "Uwty6F7w20qu",
        "outputId": "409c3b98-3414-4b6f-9301-841bc408cbae"
      },
      "execution_count": null,
      "outputs": [
        {
          "output_type": "stream",
          "name": "stdout",
          "text": [
            "1 2 3 4 "
          ]
        }
      ]
    },
    {
      "cell_type": "code",
      "source": [
        "i = 1\n",
        "\n",
        "while i < 10:\n",
        "  if i == 5:\n",
        "    break\n",
        "  print(i,end=\" \")\n",
        "  i += 1"
      ],
      "metadata": {
        "colab": {
          "base_uri": "https://localhost:8080/"
        },
        "id": "r0TI8pr23BIs",
        "outputId": "20bb7f20-3af8-404d-e00d-fa163d57a097"
      },
      "execution_count": null,
      "outputs": [
        {
          "output_type": "stream",
          "name": "stdout",
          "text": [
            "1 2 3 4 "
          ]
        }
      ]
    },
    {
      "cell_type": "code",
      "source": [
        "#Strings\n",
        "#sequence of characters(alphabets, digits, whitespaces, special characters)\n",
        "#can be defined using single, double or triple quotes\n",
        "\n",
        "\"Rahul\" == \"luhaR\""
      ],
      "metadata": {
        "colab": {
          "base_uri": "https://localhost:8080/"
        },
        "id": "9ndXUTH366Py",
        "outputId": "26b3c276-5f4d-44a9-b947-b0622515f373"
      },
      "execution_count": null,
      "outputs": [
        {
          "output_type": "execute_result",
          "data": {
            "text/plain": [
              "False"
            ]
          },
          "metadata": {},
          "execution_count": 20
        }
      ]
    },
    {
      "cell_type": "code",
      "source": [
        "#Indexing in a String\n",
        "\n",
        "name = \"Rahul Janghu\"\n",
        "\n",
        "name[2]"
      ],
      "metadata": {
        "colab": {
          "base_uri": "https://localhost:8080/",
          "height": 36
        },
        "id": "2TLVA2Ja7zDj",
        "outputId": "dc483ec1-f69e-4779-b3f8-74dc77fc72e9"
      },
      "execution_count": null,
      "outputs": [
        {
          "output_type": "execute_result",
          "data": {
            "text/plain": [
              "'h'"
            ],
            "application/vnd.google.colaboratory.intrinsic+json": {
              "type": "string"
            }
          },
          "metadata": {},
          "execution_count": 21
        }
      ]
    },
    {
      "cell_type": "code",
      "source": [
        "name[-1]"
      ],
      "metadata": {
        "colab": {
          "base_uri": "https://localhost:8080/",
          "height": 36
        },
        "id": "UFHOREYdD3NI",
        "outputId": "81623303-abab-4317-d9c1-0bdc331f116c"
      },
      "execution_count": null,
      "outputs": [
        {
          "output_type": "execute_result",
          "data": {
            "text/plain": [
              "'u'"
            ],
            "application/vnd.google.colaboratory.intrinsic+json": {
              "type": "string"
            }
          },
          "metadata": {},
          "execution_count": 22
        }
      ]
    },
    {
      "cell_type": "code",
      "source": [
        "len(name)"
      ],
      "metadata": {
        "colab": {
          "base_uri": "https://localhost:8080/"
        },
        "id": "m0_JV4rlD9lI",
        "outputId": "ba1f02d3-0dd4-45c6-c887-cf9c3708af86"
      },
      "execution_count": null,
      "outputs": [
        {
          "output_type": "execute_result",
          "data": {
            "text/plain": [
              "12"
            ]
          },
          "metadata": {},
          "execution_count": 23
        }
      ]
    },
    {
      "cell_type": "code",
      "source": [
        "size = len(name)\n",
        "\n",
        "print(name[-size])\n",
        "print(size)"
      ],
      "metadata": {
        "colab": {
          "base_uri": "https://localhost:8080/"
        },
        "id": "BvYydQMREGWU",
        "outputId": "25b4c1fe-1792-49cf-87bb-9da293eb3d4e"
      },
      "execution_count": null,
      "outputs": [
        {
          "output_type": "stream",
          "name": "stdout",
          "text": [
            "R\n",
            "12\n"
          ]
        }
      ]
    },
    {
      "cell_type": "code",
      "source": [
        "#String Slicing\n",
        "\n",
        "name = \"Rahul Janghu\"\n",
        "print(name[0])\n",
        "print(name[0:3])\n",
        "print(name[0:])"
      ],
      "metadata": {
        "id": "qV2jg-BOEQeO",
        "colab": {
          "base_uri": "https://localhost:8080/"
        },
        "outputId": "28e891db-4254-4e6f-8b52-689922b1bce2"
      },
      "execution_count": null,
      "outputs": [
        {
          "output_type": "stream",
          "name": "stdout",
          "text": [
            "Rah\n"
          ]
        }
      ]
    },
    {
      "cell_type": "code",
      "source": [
        "size = len(name)\n",
        "print(name[2:size])\n",
        "print(name[:])\n",
        "print(name[::2])\n",
        "print(name[:-1])\n",
        "print(name[-2])\n",
        "print(name[1:-2:-1])\n",
        "print(name[-1:0])\n",
        "print(name[::-1])\n",
        "print(name[-1 : -(len(name) % 1) : -1])"
      ],
      "metadata": {
        "colab": {
          "base_uri": "https://localhost:8080/"
        },
        "id": "TmExOijiwLU-",
        "outputId": "800cbf3f-389d-4d2d-c910-aaf09979eab9"
      },
      "execution_count": null,
      "outputs": [
        {
          "output_type": "stream",
          "name": "stdout",
          "text": [
            "hul Janghu\n",
            "Rahul Janghu\n",
            "RhlJnh\n",
            "Rahul Jangh\n",
            "h\n",
            "\n",
            "\n",
            "uhgnaJ luhaR\n",
            "uhgnaJ luha\n"
          ]
        }
      ]
    },
    {
      "cell_type": "code",
      "source": [
        "#String methods\n",
        "name.capitalize()"
      ],
      "metadata": {
        "colab": {
          "base_uri": "https://localhost:8080/",
          "height": 36
        },
        "id": "LSGqXxJWyjxG",
        "outputId": "434d2f4d-8af2-4b11-d430-ecfc81795036"
      },
      "execution_count": null,
      "outputs": [
        {
          "output_type": "execute_result",
          "data": {
            "text/plain": [
              "'Rahul janghu'"
            ],
            "application/vnd.google.colaboratory.intrinsic+json": {
              "type": "string"
            }
          },
          "metadata": {},
          "execution_count": 9
        }
      ]
    },
    {
      "cell_type": "code",
      "source": [
        "name.upper()"
      ],
      "metadata": {
        "colab": {
          "base_uri": "https://localhost:8080/",
          "height": 36
        },
        "id": "IP9uHffE0GzB",
        "outputId": "57fd6096-33e1-4956-ce63-2e37dba31a29"
      },
      "execution_count": null,
      "outputs": [
        {
          "output_type": "execute_result",
          "data": {
            "text/plain": [
              "'RAHUL JANGHU'"
            ],
            "application/vnd.google.colaboratory.intrinsic+json": {
              "type": "string"
            }
          },
          "metadata": {},
          "execution_count": 10
        }
      ]
    },
    {
      "cell_type": "code",
      "source": [
        "name.lower()"
      ],
      "metadata": {
        "colab": {
          "base_uri": "https://localhost:8080/",
          "height": 36
        },
        "id": "3dx2tCp_0JZW",
        "outputId": "02a307d4-e1d2-4092-99f5-cddffdb8eee6"
      },
      "execution_count": null,
      "outputs": [
        {
          "output_type": "execute_result",
          "data": {
            "text/plain": [
              "'rahul janghu'"
            ],
            "application/vnd.google.colaboratory.intrinsic+json": {
              "type": "string"
            }
          },
          "metadata": {},
          "execution_count": 11
        }
      ]
    },
    {
      "cell_type": "code",
      "source": [
        "name.find(\"a\")"
      ],
      "metadata": {
        "colab": {
          "base_uri": "https://localhost:8080/"
        },
        "id": "75N4WboQ0Mxm",
        "outputId": "97fdeb81-a8ad-4de1-c5cc-4ef8ff2aa8e2"
      },
      "execution_count": null,
      "outputs": [
        {
          "output_type": "execute_result",
          "data": {
            "text/plain": [
              "1"
            ]
          },
          "metadata": {},
          "execution_count": 15
        }
      ]
    },
    {
      "cell_type": "code",
      "source": [
        "name.count(\"Ra\")"
      ],
      "metadata": {
        "colab": {
          "base_uri": "https://localhost:8080/"
        },
        "id": "fOqmsivR0Wrf",
        "outputId": "f36ff357-c457-42aa-cbb2-13399a930083"
      },
      "execution_count": null,
      "outputs": [
        {
          "output_type": "execute_result",
          "data": {
            "text/plain": [
              "1"
            ]
          },
          "metadata": {},
          "execution_count": 18
        }
      ]
    },
    {
      "cell_type": "code",
      "source": [
        "name.title()"
      ],
      "metadata": {
        "colab": {
          "base_uri": "https://localhost:8080/",
          "height": 36
        },
        "id": "WdZFLeyJ0fi3",
        "outputId": "d0cf8d34-d4de-4782-8c74-82bdcba539cd"
      },
      "execution_count": null,
      "outputs": [
        {
          "output_type": "execute_result",
          "data": {
            "text/plain": [
              "'Rahul Janghu'"
            ],
            "application/vnd.google.colaboratory.intrinsic+json": {
              "type": "string"
            }
          },
          "metadata": {},
          "execution_count": 19
        }
      ]
    },
    {
      "cell_type": "code",
      "source": [
        "name.split()"
      ],
      "metadata": {
        "colab": {
          "base_uri": "https://localhost:8080/"
        },
        "id": "OjKSqWBq0per",
        "outputId": "341185eb-9c9f-400f-ae32-f7436bde1722"
      },
      "execution_count": null,
      "outputs": [
        {
          "output_type": "execute_result",
          "data": {
            "text/plain": [
              "['Rahul', 'Janghu']"
            ]
          },
          "metadata": {},
          "execution_count": 20
        }
      ]
    },
    {
      "cell_type": "code",
      "source": [
        "name.index(\"R\")"
      ],
      "metadata": {
        "colab": {
          "base_uri": "https://localhost:8080/"
        },
        "id": "AyG4XBp50saq",
        "outputId": "5c12c644-292d-4590-d309-238cdfd4c85e"
      },
      "execution_count": null,
      "outputs": [
        {
          "output_type": "execute_result",
          "data": {
            "text/plain": [
              "0"
            ]
          },
          "metadata": {},
          "execution_count": 21
        }
      ]
    },
    {
      "cell_type": "code",
      "source": [
        "name.replace(\"J\",\"j\")"
      ],
      "metadata": {
        "colab": {
          "base_uri": "https://localhost:8080/",
          "height": 36
        },
        "id": "PHcujR5G0veX",
        "outputId": "88267120-366d-4a34-bd62-72336ba09faf"
      },
      "execution_count": null,
      "outputs": [
        {
          "output_type": "execute_result",
          "data": {
            "text/plain": [
              "'Rahul janghu'"
            ],
            "application/vnd.google.colaboratory.intrinsic+json": {
              "type": "string"
            }
          },
          "metadata": {},
          "execution_count": 22
        }
      ]
    },
    {
      "cell_type": "code",
      "source": [
        "name.isupper()"
      ],
      "metadata": {
        "colab": {
          "base_uri": "https://localhost:8080/"
        },
        "id": "Ji4O_OFk02wn",
        "outputId": "f220f6aa-0277-437b-bb34-db34af56a279"
      },
      "execution_count": null,
      "outputs": [
        {
          "output_type": "execute_result",
          "data": {
            "text/plain": [
              "False"
            ]
          },
          "metadata": {},
          "execution_count": 23
        }
      ]
    },
    {
      "cell_type": "code",
      "source": [
        "name.islower()"
      ],
      "metadata": {
        "colab": {
          "base_uri": "https://localhost:8080/"
        },
        "id": "TtXfdRG15SZ6",
        "outputId": "ba3c6a44-f598-4bdd-8cd9-0f49d3e75592"
      },
      "execution_count": null,
      "outputs": [
        {
          "output_type": "execute_result",
          "data": {
            "text/plain": [
              "False"
            ]
          },
          "metadata": {},
          "execution_count": 24
        }
      ]
    },
    {
      "cell_type": "code",
      "source": [
        "name.isnumeric()"
      ],
      "metadata": {
        "colab": {
          "base_uri": "https://localhost:8080/"
        },
        "id": "uL-Oydvp5VO_",
        "outputId": "cf269b57-032b-4388-fd67-4574ad023b5b"
      },
      "execution_count": null,
      "outputs": [
        {
          "output_type": "execute_result",
          "data": {
            "text/plain": [
              "False"
            ]
          },
          "metadata": {},
          "execution_count": 25
        }
      ]
    },
    {
      "cell_type": "code",
      "source": [
        "name = \"Rahul\"\n",
        "print(name.isalpha())\n",
        "\"Rahul janghu\".isalpha()"
      ],
      "metadata": {
        "colab": {
          "base_uri": "https://localhost:8080/"
        },
        "id": "HV2VkAz-5Yqe",
        "outputId": "99c80cbc-c365-48c0-c20d-ccdbadd26354"
      },
      "execution_count": null,
      "outputs": [
        {
          "output_type": "execute_result",
          "data": {
            "text/plain": [
              "False"
            ]
          },
          "metadata": {},
          "execution_count": 29
        }
      ]
    },
    {
      "cell_type": "code",
      "source": [
        "#String formatting\n",
        "\n",
        "name = input()\n",
        "age = input()\n",
        "\n",
        "print(\"Hey my name is\",name,\"And my age is\",age)"
      ],
      "metadata": {
        "colab": {
          "base_uri": "https://localhost:8080/"
        },
        "id": "VKPKzZB25mWG",
        "outputId": "2448fe43-ffdc-4816-dee4-35d15dd63baf"
      },
      "execution_count": null,
      "outputs": [
        {
          "output_type": "stream",
          "name": "stdout",
          "text": [
            "Rahul\n",
            "25\n",
            "Hey my name is Rahul And my age is 25\n"
          ]
        }
      ]
    },
    {
      "cell_type": "code",
      "source": [
        "name = input()\n",
        "age = input()\n",
        "\n",
        "print(\"Hey my name is {}, And my age is {}\".format(name, age)) #{} are placeholder"
      ],
      "metadata": {
        "colab": {
          "base_uri": "https://localhost:8080/"
        },
        "id": "9NS3fltG6OG8",
        "outputId": "91bf54ea-b27c-40f7-c702-0cfb23a01d1f"
      },
      "execution_count": null,
      "outputs": [
        {
          "output_type": "stream",
          "name": "stdout",
          "text": [
            "Rahul\n",
            "25\n",
            "Hey my name is Rahul, And my age is 25\n"
          ]
        }
      ]
    },
    {
      "cell_type": "code",
      "source": [
        "name = input()\n",
        "age = input()\n",
        "\n",
        "print(f\"Hey my name is {name}. And my age is {age}.\")"
      ],
      "metadata": {
        "colab": {
          "base_uri": "https://localhost:8080/"
        },
        "id": "bc-kVjVd7NU-",
        "outputId": "b484505f-8ca0-497b-f978-5f261a1a8f7d"
      },
      "execution_count": null,
      "outputs": [
        {
          "output_type": "stream",
          "name": "stdout",
          "text": [
            "Rahul\n",
            "25\n",
            "Hey my name is Rahul. And my age is 25.\n"
          ]
        }
      ]
    },
    {
      "cell_type": "code",
      "source": [
        "#String concatenation\n",
        "\n",
        "first = input()\n",
        "second = input()\n",
        "\n",
        "print(first ,\" \", + second)"
      ],
      "metadata": {
        "colab": {
          "base_uri": "https://localhost:8080/"
        },
        "id": "z3gcDzEl7koD",
        "outputId": "23803856-6ae2-43b5-c466-c4214f589628"
      },
      "execution_count": null,
      "outputs": [
        {
          "output_type": "stream",
          "name": "stdout",
          "text": [
            "Rahul\n",
            "janghu\n",
            "Rahul  janghu\n"
          ]
        }
      ]
    },
    {
      "cell_type": "code",
      "source": [
        "\"2\" + 2"
      ],
      "metadata": {
        "colab": {
          "base_uri": "https://localhost:8080/",
          "height": 141
        },
        "id": "8h9mPC198FgI",
        "outputId": "c92377a4-dc64-44db-b0df-e46cb527c037"
      },
      "execution_count": null,
      "outputs": [
        {
          "output_type": "error",
          "ename": "TypeError",
          "evalue": "can only concatenate str (not \"int\") to str",
          "traceback": [
            "\u001b[0;31m---------------------------------------------------------------------------\u001b[0m",
            "\u001b[0;31mTypeError\u001b[0m                                 Traceback (most recent call last)",
            "\u001b[0;32m<ipython-input-37-192a1d19ca7a>\u001b[0m in \u001b[0;36m<cell line: 1>\u001b[0;34m()\u001b[0m\n\u001b[0;32m----> 1\u001b[0;31m \u001b[0;34m\"2\"\u001b[0m \u001b[0;34m+\u001b[0m \u001b[0;36m2\u001b[0m\u001b[0;34m\u001b[0m\u001b[0;34m\u001b[0m\u001b[0m\n\u001b[0m",
            "\u001b[0;31mTypeError\u001b[0m: can only concatenate str (not \"int\") to str"
          ]
        }
      ]
    },
    {
      "cell_type": "code",
      "source": [
        "#Print all vowels of a given string\n",
        "\n",
        "text = \"The quick brown fox jumps over the lazy dog\"\n",
        "\n",
        "for i in text:\n",
        "  if i == \"a\" or i == \"e\" or i == \"i\" or i == \"o\" or i == \"u\":\n",
        "    print(i,end=\" \")\n",
        "\n"
      ],
      "metadata": {
        "colab": {
          "base_uri": "https://localhost:8080/"
        },
        "id": "X6fuLipY8KkQ",
        "outputId": "0ca1905e-13b2-4824-d630-479160d381cd"
      },
      "execution_count": null,
      "outputs": [
        {
          "output_type": "stream",
          "name": "stdout",
          "text": [
            "e u i o o u o e e a o "
          ]
        }
      ]
    },
    {
      "cell_type": "code",
      "source": [
        "#Check pallindrome\n",
        "#A string is said to be palindrome if the reverse of string is the same as string\n",
        "#eg radar = radar, radix != xidar\n",
        "\n",
        "s = \"Rahul\"\n",
        "j = s[::-1]\n",
        "p = s[::]\n",
        "\n",
        "\n",
        "for i in s:\n",
        "  if j == j:\n",
        "    print(\"It is palindrome\")\n",
        "    break\n",
        "  else:\n",
        "    print(\"no\")\n",
        "    break"
      ],
      "metadata": {
        "colab": {
          "base_uri": "https://localhost:8080/"
        },
        "id": "ZPYEZsBS9hkL",
        "outputId": "cbb145ba-778e-46ea-9984-9627213994a0"
      },
      "execution_count": null,
      "outputs": [
        {
          "output_type": "stream",
          "name": "stdout",
          "text": [
            "It is palindrome\n"
          ]
        }
      ]
    },
    {
      "cell_type": "code",
      "source": [
        "text = \"Hello world Hello\"\n",
        "length = len(text)\n",
        "\n",
        "for i in text:\n",
        "  if i >= text:\n",
        "    print(\"number cant repeat\")\n",
        "\n",
        "  else:\n",
        "    print(i,end=\" \")\n",
        "\n",
        "  break"
      ],
      "metadata": {
        "colab": {
          "base_uri": "https://localhost:8080/"
        },
        "id": "p6yMRKEN_CjD",
        "outputId": "2c6f2ce2-8378-4010-b1e8-84b27d4f289d"
      },
      "execution_count": null,
      "outputs": [
        {
          "output_type": "stream",
          "name": "stdout",
          "text": [
            "H "
          ]
        }
      ]
    },
    {
      "cell_type": "code",
      "source": [
        "#Lists\n",
        "#Ordered collection of data, mutable type of data structures, contains multiple type of data and are iterable.\n",
        "\n",
        "l = list()\n",
        "print(type(l))"
      ],
      "metadata": {
        "colab": {
          "base_uri": "https://localhost:8080/"
        },
        "id": "XBuQr4RFDGpe",
        "outputId": "783be4f6-6fd6-4304-f791-387621d3a78b"
      },
      "execution_count": null,
      "outputs": [
        {
          "output_type": "stream",
          "name": "stdout",
          "text": [
            "<class 'list'>\n"
          ]
        }
      ]
    },
    {
      "cell_type": "code",
      "source": [
        "l1 = [1,2,3]\n",
        "print(type(l1))\n",
        "print(len(l1))"
      ],
      "metadata": {
        "colab": {
          "base_uri": "https://localhost:8080/"
        },
        "id": "qEAgD9AdGd6W",
        "outputId": "0e1e9d8c-4651-478d-de93-f5c05a836218"
      },
      "execution_count": null,
      "outputs": [
        {
          "output_type": "stream",
          "name": "stdout",
          "text": [
            "<class 'list'>\n",
            "3\n"
          ]
        }
      ]
    },
    {
      "cell_type": "code",
      "source": [
        "#accessing\n",
        "print(l1[0])\n",
        "print(l1[-len(l1)])\n",
        "print(l1[-1])\n",
        "print(id(l1))"
      ],
      "metadata": {
        "colab": {
          "base_uri": "https://localhost:8080/"
        },
        "id": "LE0EQ5wkGrrE",
        "outputId": "8300d82e-0c2d-4264-c29a-a2396a3fb66b"
      },
      "execution_count": null,
      "outputs": [
        {
          "output_type": "stream",
          "name": "stdout",
          "text": [
            "1\n",
            "1\n",
            "3\n",
            "135935069834944\n"
          ]
        }
      ]
    },
    {
      "cell_type": "code",
      "source": [
        "#changing value\n",
        "l1[0] = 9\n",
        "print(l1)\n",
        "print(id(l1))"
      ],
      "metadata": {
        "colab": {
          "base_uri": "https://localhost:8080/"
        },
        "id": "9TuuRokuHPzi",
        "outputId": "757ff84d-4c0e-43d0-f8c2-21a46a750bad"
      },
      "execution_count": null,
      "outputs": [
        {
          "output_type": "stream",
          "name": "stdout",
          "text": [
            "[9, 2, 3]\n",
            "135935069834944\n"
          ]
        }
      ]
    },
    {
      "cell_type": "code",
      "source": [
        "#Iterable\n",
        "\n",
        "for i in l1:\n",
        "  print(i)"
      ],
      "metadata": {
        "colab": {
          "base_uri": "https://localhost:8080/"
        },
        "id": "X7yqXJzIHhAv",
        "outputId": "1c825c99-b9f9-4a18-82e5-328a7b96b3bb"
      },
      "execution_count": null,
      "outputs": [
        {
          "output_type": "stream",
          "name": "stdout",
          "text": [
            "9\n",
            "2\n",
            "3\n"
          ]
        }
      ]
    },
    {
      "cell_type": "code",
      "source": [
        "#Slicing\n",
        "l = [1,2,3,4,5,6]\n",
        "len(l)\n"
      ],
      "metadata": {
        "colab": {
          "base_uri": "https://localhost:8080/"
        },
        "id": "S_aG6vvGHzVo",
        "outputId": "f3d6363d-e460-49e3-ff69-79a2573cf717"
      },
      "execution_count": null,
      "outputs": [
        {
          "output_type": "execute_result",
          "data": {
            "text/plain": [
              "6"
            ]
          },
          "metadata": {},
          "execution_count": 12
        }
      ]
    },
    {
      "cell_type": "code",
      "source": [
        "print(l[0:3])\n",
        "print(l[::-1])\n",
        "print(l[5:0:-1])\n"
      ],
      "metadata": {
        "colab": {
          "base_uri": "https://localhost:8080/"
        },
        "id": "Ltl10kz0H7sC",
        "outputId": "6cdbff77-0885-4ea3-f7c6-0a1b8bf8a9ad"
      },
      "execution_count": null,
      "outputs": [
        {
          "output_type": "stream",
          "name": "stdout",
          "text": [
            "[1, 2, 3]\n",
            "[6, 5, 4, 3, 2, 1]\n",
            "[6, 5, 4, 3, 2]\n"
          ]
        }
      ]
    },
    {
      "cell_type": "code",
      "source": [
        "#List inbuilt methods\n",
        "#count : Returns the count of an object\n",
        "\n",
        "budget = [100,200,300,150,100]\n",
        "print(budget.count(100))\n",
        "print(budget.count(500))"
      ],
      "metadata": {
        "colab": {
          "base_uri": "https://localhost:8080/"
        },
        "id": "SJcljbspIWLP",
        "outputId": "0ff03b2f-dbf2-4443-e858-a8de4828838c"
      },
      "execution_count": null,
      "outputs": [
        {
          "output_type": "stream",
          "name": "stdout",
          "text": [
            "2\n",
            "0\n"
          ]
        }
      ]
    },
    {
      "cell_type": "code",
      "source": [
        "#index : Returns the index of 1st occurance of an object\n",
        "\n",
        "budget = [100,200,300,150,100]\n",
        "print(budget.index(200))\n",
        "print(budget.index(100))"
      ],
      "metadata": {
        "colab": {
          "base_uri": "https://localhost:8080/"
        },
        "id": "MWZ6gTS5I38s",
        "outputId": "068db198-72b8-43d3-ef9c-d9f5c9649a2a"
      },
      "execution_count": null,
      "outputs": [
        {
          "output_type": "stream",
          "name": "stdout",
          "text": [
            "1\n",
            "0\n"
          ]
        }
      ]
    },
    {
      "cell_type": "code",
      "source": [
        "#pop : Removes and returns the last element of a list\n",
        "budget.pop()"
      ],
      "metadata": {
        "colab": {
          "base_uri": "https://localhost:8080/"
        },
        "id": "Rz2BgRSrJLbg",
        "outputId": "ca016c63-7fb9-4bab-d25b-246de4d5a9ff"
      },
      "execution_count": null,
      "outputs": [
        {
          "output_type": "execute_result",
          "data": {
            "text/plain": [
              "100"
            ]
          },
          "metadata": {},
          "execution_count": 20
        }
      ]
    },
    {
      "cell_type": "code",
      "source": [
        "#remove : Removes the given object from our list\n",
        "\n",
        "budget.remove(200)"
      ],
      "metadata": {
        "id": "iLLRu1BcJWwG"
      },
      "execution_count": null,
      "outputs": []
    },
    {
      "cell_type": "code",
      "source": [
        "budget"
      ],
      "metadata": {
        "colab": {
          "base_uri": "https://localhost:8080/"
        },
        "id": "-QTtuXbrJl7o",
        "outputId": "cf31c092-ec30-4ba3-a287-9fb98d0288b0"
      },
      "execution_count": null,
      "outputs": [
        {
          "output_type": "execute_result",
          "data": {
            "text/plain": [
              "[100, 300, 150]"
            ]
          },
          "metadata": {},
          "execution_count": 22
        }
      ]
    },
    {
      "cell_type": "code",
      "source": [
        "#sort : It sorts our list\n",
        "budget.sort()\n",
        "budget"
      ],
      "metadata": {
        "colab": {
          "base_uri": "https://localhost:8080/"
        },
        "id": "4bumzcZiJn41",
        "outputId": "f6be5278-93d8-4220-e905-4dc22d712acc"
      },
      "execution_count": null,
      "outputs": [
        {
          "output_type": "execute_result",
          "data": {
            "text/plain": [
              "[100, 150, 300]"
            ]
          },
          "metadata": {},
          "execution_count": 24
        }
      ]
    },
    {
      "cell_type": "code",
      "source": [
        "#insert : Helps to add an element at a given index\n",
        "\n",
        "budget.insert(0,20)\n",
        "budget"
      ],
      "metadata": {
        "colab": {
          "base_uri": "https://localhost:8080/"
        },
        "id": "avQnlJT-J4eX",
        "outputId": "8a5ecf7f-1974-49ec-9c31-a8ddfb68a98d"
      },
      "execution_count": null,
      "outputs": [
        {
          "output_type": "execute_result",
          "data": {
            "text/plain": [
              "[20, 20, 100, 150, 300]"
            ]
          },
          "metadata": {},
          "execution_count": 26
        }
      ]
    },
    {
      "cell_type": "code",
      "source": [
        "#append\n",
        "budget.append(\"Rahul\")"
      ],
      "metadata": {
        "id": "rRuWgdpiKFtM"
      },
      "execution_count": null,
      "outputs": []
    },
    {
      "cell_type": "code",
      "source": [
        "budget"
      ],
      "metadata": {
        "colab": {
          "base_uri": "https://localhost:8080/"
        },
        "id": "0kkIUZ82M90R",
        "outputId": "643229c8-1078-45aa-9a95-83009262683c"
      },
      "execution_count": null,
      "outputs": [
        {
          "output_type": "execute_result",
          "data": {
            "text/plain": [
              "[20, 20, 100, 150, 300, 'Rahul']"
            ]
          },
          "metadata": {},
          "execution_count": 28
        }
      ]
    },
    {
      "cell_type": "code",
      "source": [
        "l1 = [1,2,3]\n",
        "l2 = [4,5,6]\n",
        "l1.append(l2)"
      ],
      "metadata": {
        "id": "svhQPO2ZNDWQ"
      },
      "execution_count": null,
      "outputs": []
    },
    {
      "cell_type": "code",
      "source": [
        "l1"
      ],
      "metadata": {
        "colab": {
          "base_uri": "https://localhost:8080/"
        },
        "id": "WTCuF-XZNKIz",
        "outputId": "4002775c-8835-4363-a991-dc26a127e7da"
      },
      "execution_count": null,
      "outputs": [
        {
          "output_type": "execute_result",
          "data": {
            "text/plain": [
              "[1, 2, 3, [4, 5, 6]]"
            ]
          },
          "metadata": {},
          "execution_count": 30
        }
      ]
    },
    {
      "cell_type": "code",
      "source": [
        "#extend\n",
        "l1.extend(l2)"
      ],
      "metadata": {
        "id": "XxPmak5ONSQ_"
      },
      "execution_count": null,
      "outputs": []
    },
    {
      "cell_type": "code",
      "source": [
        "l1"
      ],
      "metadata": {
        "colab": {
          "base_uri": "https://localhost:8080/"
        },
        "id": "huET545jNV9H",
        "outputId": "1b8ef6da-b40d-4e4f-8a55-7b66de52a376"
      },
      "execution_count": null,
      "outputs": [
        {
          "output_type": "execute_result",
          "data": {
            "text/plain": [
              "[1, 2, 3, [4, 5, 6], 4, 5, 6]"
            ]
          },
          "metadata": {},
          "execution_count": 32
        }
      ]
    },
    {
      "cell_type": "code",
      "source": [
        "#Heterogenous lists\n",
        "l = [2,\"Rahul\",1.3,True]\n",
        "type(l)"
      ],
      "metadata": {
        "colab": {
          "base_uri": "https://localhost:8080/"
        },
        "id": "ZbnhdOB3NlHx",
        "outputId": "08c07f06-c441-4a91-a6d6-bd20b4ad0958"
      },
      "execution_count": null,
      "outputs": [
        {
          "output_type": "execute_result",
          "data": {
            "text/plain": [
              "list"
            ]
          },
          "metadata": {},
          "execution_count": 33
        }
      ]
    },
    {
      "cell_type": "code",
      "source": [
        "type(l[3])"
      ],
      "metadata": {
        "colab": {
          "base_uri": "https://localhost:8080/"
        },
        "id": "6N34Bwg3Nw4M",
        "outputId": "46c55830-f422-4c46-a943-e5102ecebc3b"
      },
      "execution_count": null,
      "outputs": [
        {
          "output_type": "execute_result",
          "data": {
            "text/plain": [
              "bool"
            ]
          },
          "metadata": {},
          "execution_count": 34
        }
      ]
    },
    {
      "cell_type": "code",
      "source": [
        "for i in l:\n",
        "  print(type(l[0:3:1]))"
      ],
      "metadata": {
        "colab": {
          "base_uri": "https://localhost:8080/"
        },
        "id": "7hJ33WsgN2kV",
        "outputId": "b84ecd22-cc98-422d-fda4-793cb86128d5"
      },
      "execution_count": null,
      "outputs": [
        {
          "output_type": "stream",
          "name": "stdout",
          "text": [
            "<class 'list'>\n",
            "<class 'list'>\n",
            "<class 'list'>\n",
            "<class 'list'>\n"
          ]
        }
      ]
    },
    {
      "cell_type": "code",
      "source": [
        "#2-D lists\n",
        "l = [[1,2,3],[4,5,6],[7,8,9]]\n",
        "l"
      ],
      "metadata": {
        "colab": {
          "base_uri": "https://localhost:8080/"
        },
        "id": "boqFCjb3OVL4",
        "outputId": "5743b46f-45ee-4c25-93e3-0ddd2ae19b58"
      },
      "execution_count": null,
      "outputs": [
        {
          "output_type": "execute_result",
          "data": {
            "text/plain": [
              "[[1, 2, 3], [4, 5, 6], [7, 8, 9]]"
            ]
          },
          "metadata": {},
          "execution_count": 42
        }
      ]
    },
    {
      "cell_type": "code",
      "source": [
        "l[0]"
      ],
      "metadata": {
        "colab": {
          "base_uri": "https://localhost:8080/"
        },
        "id": "pUPq4mfYO609",
        "outputId": "63ac51ee-44e3-42d3-f24a-df6a70f3a9cd"
      },
      "execution_count": null,
      "outputs": [
        {
          "output_type": "execute_result",
          "data": {
            "text/plain": [
              "[1, 2, 3]"
            ]
          },
          "metadata": {},
          "execution_count": 43
        }
      ]
    },
    {
      "cell_type": "code",
      "source": [
        "l[1]"
      ],
      "metadata": {
        "colab": {
          "base_uri": "https://localhost:8080/"
        },
        "id": "mSr6yL5OU3g4",
        "outputId": "f3398032-a0d5-4d5f-deb7-e9db79a093a6"
      },
      "execution_count": null,
      "outputs": [
        {
          "output_type": "execute_result",
          "data": {
            "text/plain": [
              "[4, 5, 6]"
            ]
          },
          "metadata": {},
          "execution_count": 44
        }
      ]
    },
    {
      "cell_type": "code",
      "source": [
        "l[2]"
      ],
      "metadata": {
        "colab": {
          "base_uri": "https://localhost:8080/"
        },
        "id": "0QoX28NzU6U5",
        "outputId": "2f94c39e-1619-4a19-8223-8a277e805764"
      },
      "execution_count": null,
      "outputs": [
        {
          "output_type": "execute_result",
          "data": {
            "text/plain": [
              "[7, 8, 9]"
            ]
          },
          "metadata": {},
          "execution_count": 45
        }
      ]
    },
    {
      "cell_type": "code",
      "source": [
        "l[0][1]"
      ],
      "metadata": {
        "colab": {
          "base_uri": "https://localhost:8080/"
        },
        "id": "qKiyjazCU9CR",
        "outputId": "f3a70069-1736-457c-a582-a7950cedb9d4"
      },
      "execution_count": null,
      "outputs": [
        {
          "output_type": "execute_result",
          "data": {
            "text/plain": [
              "2"
            ]
          },
          "metadata": {},
          "execution_count": 50
        }
      ]
    },
    {
      "cell_type": "code",
      "source": [
        "#Iteration in 2D string\n",
        "\n",
        "l = [[1,2,3],[4,5,6],[7,8,9]]\n",
        "\n",
        "for i in l:\n",
        "  for j in i:\n",
        "    print(j)"
      ],
      "metadata": {
        "colab": {
          "base_uri": "https://localhost:8080/"
        },
        "id": "NSdDz9epVUsX",
        "outputId": "9f7a7bab-d52f-41f6-e006-c020a14c1ce2"
      },
      "execution_count": null,
      "outputs": [
        {
          "output_type": "stream",
          "name": "stdout",
          "text": [
            "1\n",
            "2\n",
            "3\n",
            "4\n",
            "5\n",
            "6\n",
            "7\n",
            "8\n",
            "9\n"
          ]
        }
      ]
    },
    {
      "cell_type": "code",
      "source": [
        "#List Comprehension\n",
        "\n",
        "l = []\n",
        "\n",
        "for i in range(10):\n",
        "  l.append(i)\n",
        "print(l)"
      ],
      "metadata": {
        "id": "uAqs3318IXCT",
        "colab": {
          "base_uri": "https://localhost:8080/"
        },
        "outputId": "cafb4f45-99b5-4250-b54b-0e51a75e11b9"
      },
      "execution_count": null,
      "outputs": [
        {
          "output_type": "stream",
          "name": "stdout",
          "text": [
            "[0, 1, 2, 3, 4, 5, 6, 7, 8, 9]\n"
          ]
        }
      ]
    },
    {
      "cell_type": "code",
      "source": [
        "l = [(i ** 2) for i in range(20)]\n",
        "l"
      ],
      "metadata": {
        "colab": {
          "base_uri": "https://localhost:8080/"
        },
        "id": "MKuPXqfBOBVt",
        "outputId": "53504d8a-8962-496b-ff81-1866b6985578"
      },
      "execution_count": null,
      "outputs": [
        {
          "output_type": "execute_result",
          "data": {
            "text/plain": [
              "[0,\n",
              " 1,\n",
              " 4,\n",
              " 9,\n",
              " 16,\n",
              " 25,\n",
              " 36,\n",
              " 49,\n",
              " 64,\n",
              " 81,\n",
              " 100,\n",
              " 121,\n",
              " 144,\n",
              " 169,\n",
              " 196,\n",
              " 225,\n",
              " 256,\n",
              " 289,\n",
              " 324,\n",
              " 361]"
            ]
          },
          "metadata": {},
          "execution_count": 7
        }
      ]
    },
    {
      "cell_type": "code",
      "source": [
        "#Challenge\n",
        "\n",
        "l = [4,6,5,8,9,3,2,4,5,4,3,2,3,4]\n",
        "\n",
        "population = ['0']\n",
        "population += ['1','2']\n",
        "print(population)"
      ],
      "metadata": {
        "colab": {
          "base_uri": "https://localhost:8080/"
        },
        "id": "8sME-mNKOwFd",
        "outputId": "c5b9bae8-fcd2-4ec1-b055-08ebe82604a0"
      },
      "execution_count": null,
      "outputs": [
        {
          "output_type": "stream",
          "name": "stdout",
          "text": [
            "['0', '1', '2']\n"
          ]
        }
      ]
    },
    {
      "cell_type": "code",
      "source": [
        "#Tuples\n",
        "#ordered collection of data, unchangeable, iterable, heterogenous\n",
        "\n",
        "t = (\"Pluto\",\"Mercury\")\n",
        "type(t)"
      ],
      "metadata": {
        "colab": {
          "base_uri": "https://localhost:8080/"
        },
        "id": "4FosanAzQp3t",
        "outputId": "231553fc-e25a-41ce-fd67-1a3966604dab"
      },
      "execution_count": null,
      "outputs": [
        {
          "output_type": "execute_result",
          "data": {
            "text/plain": [
              "tuple"
            ]
          },
          "metadata": {},
          "execution_count": 14
        }
      ]
    },
    {
      "cell_type": "code",
      "source": [
        "t[0]"
      ],
      "metadata": {
        "colab": {
          "base_uri": "https://localhost:8080/",
          "height": 36
        },
        "id": "NArqgWrGR3Bj",
        "outputId": "862026aa-40cb-44d0-93a3-c1300b8c58f9"
      },
      "execution_count": null,
      "outputs": [
        {
          "output_type": "execute_result",
          "data": {
            "text/plain": [
              "'Pluto'"
            ],
            "application/vnd.google.colaboratory.intrinsic+json": {
              "type": "string"
            }
          },
          "metadata": {},
          "execution_count": 15
        }
      ]
    },
    {
      "cell_type": "code",
      "source": [
        "t[-1]"
      ],
      "metadata": {
        "colab": {
          "base_uri": "https://localhost:8080/",
          "height": 36
        },
        "id": "eeWHnpz7R5kV",
        "outputId": "c2c4b745-217c-43a4-9ada-532a07366a59"
      },
      "execution_count": null,
      "outputs": [
        {
          "output_type": "execute_result",
          "data": {
            "text/plain": [
              "'Mercury'"
            ],
            "application/vnd.google.colaboratory.intrinsic+json": {
              "type": "string"
            }
          },
          "metadata": {},
          "execution_count": 16
        }
      ]
    },
    {
      "cell_type": "code",
      "source": [
        "t[:]"
      ],
      "metadata": {
        "colab": {
          "base_uri": "https://localhost:8080/"
        },
        "id": "ArDLuIZFR9yX",
        "outputId": "89568a6b-3a71-4902-d06b-eba7b002d808"
      },
      "execution_count": null,
      "outputs": [
        {
          "output_type": "execute_result",
          "data": {
            "text/plain": [
              "('Pluto', 'Mercury')"
            ]
          },
          "metadata": {},
          "execution_count": 17
        }
      ]
    },
    {
      "cell_type": "code",
      "source": [
        "t[0] = \"Sun\""
      ],
      "metadata": {
        "colab": {
          "base_uri": "https://localhost:8080/",
          "height": 141
        },
        "id": "SamcxTBdSBOr",
        "outputId": "23f6b233-3c12-40d3-d194-88ee1b3c229e"
      },
      "execution_count": null,
      "outputs": [
        {
          "output_type": "error",
          "ename": "TypeError",
          "evalue": "'tuple' object does not support item assignment",
          "traceback": [
            "\u001b[0;31m---------------------------------------------------------------------------\u001b[0m",
            "\u001b[0;31mTypeError\u001b[0m                                 Traceback (most recent call last)",
            "\u001b[0;32m<ipython-input-18-1d55fbb293fe>\u001b[0m in \u001b[0;36m<cell line: 1>\u001b[0;34m()\u001b[0m\n\u001b[0;32m----> 1\u001b[0;31m \u001b[0mt\u001b[0m\u001b[0;34m[\u001b[0m\u001b[0;36m0\u001b[0m\u001b[0;34m]\u001b[0m \u001b[0;34m=\u001b[0m \u001b[0;34m\"Sun\"\u001b[0m\u001b[0;34m\u001b[0m\u001b[0;34m\u001b[0m\u001b[0m\n\u001b[0m",
            "\u001b[0;31mTypeError\u001b[0m: 'tuple' object does not support item assignment"
          ]
        }
      ]
    },
    {
      "cell_type": "code",
      "source": [
        "t = (\"Rahul\", 2, 24.4, True)\n",
        "type(t)"
      ],
      "metadata": {
        "colab": {
          "base_uri": "https://localhost:8080/"
        },
        "id": "tuGPAtzUSI4E",
        "outputId": "f23cc0ef-1170-4f51-9de0-36b463f2fb9e"
      },
      "execution_count": null,
      "outputs": [
        {
          "output_type": "execute_result",
          "data": {
            "text/plain": [
              "tuple"
            ]
          },
          "metadata": {},
          "execution_count": 20
        }
      ]
    },
    {
      "cell_type": "code",
      "source": [
        "t3 = (2)\n",
        "type(t3)"
      ],
      "metadata": {
        "colab": {
          "base_uri": "https://localhost:8080/"
        },
        "id": "VpCPOmm_STya",
        "outputId": "9c9154de-9abc-48b4-a8b8-715aac444293"
      },
      "execution_count": null,
      "outputs": [
        {
          "output_type": "execute_result",
          "data": {
            "text/plain": [
              "int"
            ]
          },
          "metadata": {},
          "execution_count": 21
        }
      ]
    },
    {
      "cell_type": "code",
      "source": [
        "t1 = ()\n",
        "type(t1)"
      ],
      "metadata": {
        "colab": {
          "base_uri": "https://localhost:8080/"
        },
        "id": "mBV4C6WN7fxp",
        "outputId": "51820c83-023c-4571-fff7-dd07c8135fc2"
      },
      "execution_count": null,
      "outputs": [
        {
          "output_type": "execute_result",
          "data": {
            "text/plain": [
              "tuple"
            ]
          },
          "metadata": {},
          "execution_count": 2
        }
      ]
    },
    {
      "cell_type": "code",
      "source": [
        "t = tuple(\"Rahul\")\n",
        "t"
      ],
      "metadata": {
        "colab": {
          "base_uri": "https://localhost:8080/"
        },
        "id": "2PPOFeiZ7tEw",
        "outputId": "ff988fae-bfec-429a-e199-49e71c71e53a"
      },
      "execution_count": null,
      "outputs": [
        {
          "output_type": "execute_result",
          "data": {
            "text/plain": [
              "('R', 'a', 'h', 'u', 'l')"
            ]
          },
          "metadata": {},
          "execution_count": 4
        }
      ]
    },
    {
      "cell_type": "code",
      "source": [
        "t = ([1,2],[4,5])\n",
        "print(len(t))\n",
        "print(type(t),t)"
      ],
      "metadata": {
        "colab": {
          "base_uri": "https://localhost:8080/"
        },
        "id": "kP-bTiBq8MUu",
        "outputId": "460ab689-8f3c-42fe-92e4-f80301963d7c"
      },
      "execution_count": null,
      "outputs": [
        {
          "output_type": "stream",
          "name": "stdout",
          "text": [
            "2\n",
            "<class 'tuple'> ([1, 2], [4, 5])\n"
          ]
        }
      ]
    },
    {
      "cell_type": "code",
      "source": [
        "#Mutability\n",
        "t = (4,5,6)\n",
        "t[0]=45"
      ],
      "metadata": {
        "colab": {
          "base_uri": "https://localhost:8080/",
          "height": 176
        },
        "id": "T6De_l1z8eKH",
        "outputId": "32e766b4-127a-4ae6-ffbe-0b589f3979cb"
      },
      "execution_count": null,
      "outputs": [
        {
          "output_type": "error",
          "ename": "TypeError",
          "evalue": "'tuple' object does not support item assignment",
          "traceback": [
            "\u001b[0;31m---------------------------------------------------------------------------\u001b[0m",
            "\u001b[0;31mTypeError\u001b[0m                                 Traceback (most recent call last)",
            "\u001b[0;32m<ipython-input-6-c97c5e57ee4a>\u001b[0m in \u001b[0;36m<cell line: 3>\u001b[0;34m()\u001b[0m\n\u001b[1;32m      1\u001b[0m \u001b[0;31m#Mutability\u001b[0m\u001b[0;34m\u001b[0m\u001b[0;34m\u001b[0m\u001b[0m\n\u001b[1;32m      2\u001b[0m \u001b[0mt\u001b[0m \u001b[0;34m=\u001b[0m \u001b[0;34m(\u001b[0m\u001b[0;36m4\u001b[0m\u001b[0;34m,\u001b[0m\u001b[0;36m5\u001b[0m\u001b[0;34m,\u001b[0m\u001b[0;36m6\u001b[0m\u001b[0;34m)\u001b[0m\u001b[0;34m\u001b[0m\u001b[0;34m\u001b[0m\u001b[0m\n\u001b[0;32m----> 3\u001b[0;31m \u001b[0mt\u001b[0m\u001b[0;34m[\u001b[0m\u001b[0;36m0\u001b[0m\u001b[0;34m]\u001b[0m\u001b[0;34m=\u001b[0m\u001b[0;36m45\u001b[0m\u001b[0;34m\u001b[0m\u001b[0;34m\u001b[0m\u001b[0m\n\u001b[0m",
            "\u001b[0;31mTypeError\u001b[0m: 'tuple' object does not support item assignment"
          ]
        }
      ]
    },
    {
      "cell_type": "code",
      "source": [
        "t = ([1,2,3],\"Rahul\")\n",
        "print(type(t), type(t[0]), type(t[1]))\n"
      ],
      "metadata": {
        "colab": {
          "base_uri": "https://localhost:8080/"
        },
        "id": "dtOzWirl8o6c",
        "outputId": "dcd103c8-e285-49c3-efd1-25952ca10aa1"
      },
      "execution_count": null,
      "outputs": [
        {
          "output_type": "stream",
          "name": "stdout",
          "text": [
            "<class 'tuple'> <class 'list'> <class 'str'>\n"
          ]
        }
      ]
    },
    {
      "cell_type": "code",
      "source": [
        "#Unpacking a tuple\n",
        "a = 3\n",
        "b = 2\n",
        "c = 5\n",
        "d = 7\n",
        "print(a,b,c,d)"
      ],
      "metadata": {
        "colab": {
          "base_uri": "https://localhost:8080/"
        },
        "id": "z4KRgwzr9N0u",
        "outputId": "3c6e8e25-829e-4473-9a4c-35063482a919"
      },
      "execution_count": null,
      "outputs": [
        {
          "output_type": "stream",
          "name": "stdout",
          "text": [
            "3 2 5 7\n"
          ]
        }
      ]
    },
    {
      "cell_type": "code",
      "source": [
        "a,b = 2,4\n",
        "print(a,b)"
      ],
      "metadata": {
        "colab": {
          "base_uri": "https://localhost:8080/"
        },
        "id": "q2qGIiJo9Z7B",
        "outputId": "25778cc2-2d97-42c8-84fa-330105198ec8"
      },
      "execution_count": null,
      "outputs": [
        {
          "output_type": "stream",
          "name": "stdout",
          "text": [
            "2 4\n"
          ]
        }
      ]
    },
    {
      "cell_type": "code",
      "source": [
        "t = (1,2,3,4)\n",
        "a,b,c,d = t\n",
        "print(a,b,c,d)"
      ],
      "metadata": {
        "colab": {
          "base_uri": "https://localhost:8080/"
        },
        "id": "DwVtd_6j9d1I",
        "outputId": "d90c5bf8-1fea-4084-ad18-8c6eeb0c4cc6"
      },
      "execution_count": null,
      "outputs": [
        {
          "output_type": "stream",
          "name": "stdout",
          "text": [
            "1 2 3 4\n"
          ]
        }
      ]
    },
    {
      "cell_type": "code",
      "source": [
        "# tuple containing vowels\n",
        "vowels = ('a', 'e', 'i', 'o', 'u')\n",
        "\n",
        "# index of 'e' in vowels\n",
        "for i in vowels:\n",
        "    if i == vowels:\n",
        "        i = vowels.index('z')\n",
        "        break\n",
        "    else:\n",
        "        print(-1)\n",
        "        break\n",
        "    print(i)"
      ],
      "metadata": {
        "colab": {
          "base_uri": "https://localhost:8080/"
        },
        "id": "WLKo9D009qDR",
        "outputId": "8f4cc9cc-5c98-42d0-f0bc-01e6db53764f"
      },
      "execution_count": null,
      "outputs": [
        {
          "output_type": "stream",
          "name": "stdout",
          "text": [
            "-1\n"
          ]
        }
      ]
    },
    {
      "cell_type": "code",
      "source": [
        "name_lst = [\"Vijay\", \"Vickey\"]\n",
        "tup = (\"Item_1\", 0.5, name_lst)\n",
        "name_lst.append(\"Vishal\")\n",
        "print(tup)"
      ],
      "metadata": {
        "colab": {
          "base_uri": "https://localhost:8080/"
        },
        "id": "oBQthj1jAALf",
        "outputId": "6783f0d6-6a8f-4c8e-fc00-2ae8d49de619"
      },
      "execution_count": null,
      "outputs": [
        {
          "output_type": "stream",
          "name": "stdout",
          "text": [
            "('Item_1', 0.5, ['Vijay', 'Vickey', 'Vishal'])\n"
          ]
        }
      ]
    },
    {
      "cell_type": "code",
      "source": [
        "elements = (10, 20, 30, 40, 50, 60, 70, 80)\n",
        "print(elements[2:5], elements[:4], elements[3:100])"
      ],
      "metadata": {
        "colab": {
          "base_uri": "https://localhost:8080/"
        },
        "id": "yChWiUHIAJX4",
        "outputId": "2d71d5db-9d5a-4269-91b5-670e53e50138"
      },
      "execution_count": null,
      "outputs": [
        {
          "output_type": "stream",
          "name": "stdout",
          "text": [
            "(30, 40, 50) (10, 20, 30, 40) (40, 50, 60, 70, 80)\n"
          ]
        }
      ]
    },
    {
      "cell_type": "code",
      "source": [
        "#Dictionary\n",
        "#has key value pair form of data, ordered, not support indexing, accessed using key\n",
        "\n",
        "d = {}\n",
        "print(type(d))"
      ],
      "metadata": {
        "id": "aV98Sl3nEBpp",
        "colab": {
          "base_uri": "https://localhost:8080/"
        },
        "outputId": "6870b24e-7303-4b68-8bf1-dca87e664e97"
      },
      "execution_count": null,
      "outputs": [
        {
          "output_type": "stream",
          "name": "stdout",
          "text": [
            "<class 'dict'>\n"
          ]
        }
      ]
    },
    {
      "cell_type": "code",
      "source": [
        "#Creating non empty dictionary\n",
        "\n",
        "fruits = {\n",
        "    \"Apple\" : 120,\n",
        "    \"mango\" : 100,\n",
        "    \"pineapple\" : 90\n",
        "}\n",
        "\n",
        "type(fruits)"
      ],
      "metadata": {
        "id": "Y5hOLKYjL67H",
        "colab": {
          "base_uri": "https://localhost:8080/"
        },
        "outputId": "57f75216-62d6-421a-9c4c-c6cdf0734ac2"
      },
      "execution_count": null,
      "outputs": [
        {
          "output_type": "execute_result",
          "data": {
            "text/plain": [
              "dict"
            ]
          },
          "metadata": {},
          "execution_count": 2
        }
      ]
    },
    {
      "cell_type": "code",
      "source": [
        "fruits"
      ],
      "metadata": {
        "colab": {
          "base_uri": "https://localhost:8080/"
        },
        "id": "FtAHBdfxbB7h",
        "outputId": "d83b57b5-49ff-45fb-cf6a-48dda8714e15"
      },
      "execution_count": null,
      "outputs": [
        {
          "output_type": "execute_result",
          "data": {
            "text/plain": [
              "{'Apple': 120, 'mango': 100, 'pineapple': 90}"
            ]
          },
          "metadata": {},
          "execution_count": 3
        }
      ]
    },
    {
      "cell_type": "code",
      "source": [
        "#zip = binds variables/ converts 2 variables into dictionary binding them into key:value format\n",
        "\n",
        "name = [\"Apple\",\"Mango\",\"Oranges\"]\n",
        "prices = [120,100,130]\n",
        "\n",
        "fruit = dict(zip(name,prices))\n",
        "print(fruit)"
      ],
      "metadata": {
        "colab": {
          "base_uri": "https://localhost:8080/"
        },
        "id": "iGEn0oeFbDcD",
        "outputId": "eb1f75d1-a41b-4762-80a2-19216d4efb10"
      },
      "execution_count": null,
      "outputs": [
        {
          "output_type": "stream",
          "name": "stdout",
          "text": [
            "{'Apple': 120, 'Mango': 100, 'Oranges': 130}\n"
          ]
        }
      ]
    },
    {
      "cell_type": "code",
      "source": [
        "#Accessing values using key\n",
        "\n",
        "fruit[\"Apple\"]"
      ],
      "metadata": {
        "colab": {
          "base_uri": "https://localhost:8080/"
        },
        "id": "owTcb4mnbuNI",
        "outputId": "d3aabcf8-3b7a-4119-9b76-344328dc9e62"
      },
      "execution_count": null,
      "outputs": [
        {
          "output_type": "execute_result",
          "data": {
            "text/plain": [
              "120"
            ]
          },
          "metadata": {},
          "execution_count": 5
        }
      ]
    },
    {
      "cell_type": "code",
      "source": [
        "#Accessing values using get method : to avoid error\n",
        "\n",
        "fruits.get(\"Apple\")"
      ],
      "metadata": {
        "colab": {
          "base_uri": "https://localhost:8080/"
        },
        "id": "NaqIEatRb6po",
        "outputId": "5329df39-9aeb-4adc-f422-54e63e282333"
      },
      "execution_count": null,
      "outputs": [
        {
          "output_type": "execute_result",
          "data": {
            "text/plain": [
              "120"
            ]
          },
          "metadata": {},
          "execution_count": 6
        }
      ]
    },
    {
      "cell_type": "code",
      "source": [
        "fruits.get(\"Guava\",\"Not available\") #passes default message if the key is not present"
      ],
      "metadata": {
        "colab": {
          "base_uri": "https://localhost:8080/",
          "height": 36
        },
        "id": "jauNQo2ScFJR",
        "outputId": "5c208801-c352-4bb4-98fc-92d3bc7980c0"
      },
      "execution_count": null,
      "outputs": [
        {
          "output_type": "execute_result",
          "data": {
            "text/plain": [
              "'Not available'"
            ],
            "application/vnd.google.colaboratory.intrinsic+json": {
              "type": "string"
            }
          },
          "metadata": {},
          "execution_count": 7
        }
      ]
    },
    {
      "cell_type": "code",
      "source": [
        "#Updating a Dictionary can be done by using key and update\n",
        "\n",
        "#Updating the existing value\n",
        "\n",
        "fruits[\"pineapple\"] = {\"small\" : 90, \"large\" : 120}\n",
        "fruits"
      ],
      "metadata": {
        "colab": {
          "base_uri": "https://localhost:8080/"
        },
        "id": "PrPWyWJDcSMd",
        "outputId": "e1191926-766d-4000-be49-81c2565c6b77"
      },
      "execution_count": null,
      "outputs": [
        {
          "output_type": "execute_result",
          "data": {
            "text/plain": [
              "{'Apple': 120, 'mango': 100, 'pineapple': {'small': 90, 'large': 120}}"
            ]
          },
          "metadata": {},
          "execution_count": 9
        }
      ]
    },
    {
      "cell_type": "code",
      "source": [
        "#Updating with new value\n",
        "\n",
        "fruits[\"Guava\"] = 80\n",
        "fruits"
      ],
      "metadata": {
        "colab": {
          "base_uri": "https://localhost:8080/"
        },
        "id": "pkxTAkmicsId",
        "outputId": "0b483c12-b5a9-421d-a467-0bcedd538ec4"
      },
      "execution_count": null,
      "outputs": [
        {
          "output_type": "execute_result",
          "data": {
            "text/plain": [
              "{'Apple': 120,\n",
              " 'mango': 100,\n",
              " 'pineapple': {'small': 90, 'large': 120},\n",
              " 'Guava': 80}"
            ]
          },
          "metadata": {},
          "execution_count": 10
        }
      ]
    },
    {
      "cell_type": "code",
      "source": [
        "#update : updating multiple values\n",
        "\n",
        "new = {\"Grapes\" : 120, \"oranges\" : 70, \"berry\" : 140}\n",
        "fruits.update(new)\n",
        "fruits"
      ],
      "metadata": {
        "colab": {
          "base_uri": "https://localhost:8080/"
        },
        "id": "KuJ3j1imc6Np",
        "outputId": "78dd973a-aa32-447a-8b20-d63bf4161950"
      },
      "execution_count": null,
      "outputs": [
        {
          "output_type": "execute_result",
          "data": {
            "text/plain": [
              "{'Apple': 120,\n",
              " 'mango': 100,\n",
              " 'pineapple': {'small': 90, 'large': 120},\n",
              " 'Guava': 80,\n",
              " 'Grapes': 120,\n",
              " 'oranges': 70,\n",
              " 'berry': 140}"
            ]
          },
          "metadata": {},
          "execution_count": 11
        }
      ]
    },
    {
      "cell_type": "code",
      "source": [
        "#Deleting data using pop, popitem and del\n",
        "\n",
        "#Citizenship check\n",
        "\n",
        "\"Apple\" in fruits"
      ],
      "metadata": {
        "colab": {
          "base_uri": "https://localhost:8080/"
        },
        "id": "Z1BubTNUdadx",
        "outputId": "8d057ceb-773d-430f-f0f2-b9e222d5c1d2"
      },
      "execution_count": null,
      "outputs": [
        {
          "output_type": "execute_result",
          "data": {
            "text/plain": [
              "True"
            ]
          },
          "metadata": {},
          "execution_count": 12
        }
      ]
    },
    {
      "cell_type": "code",
      "source": [
        "#dic.pop(key)\n",
        "\n",
        "fruits.pop(\"Apple\")\n",
        "fruits"
      ],
      "metadata": {
        "colab": {
          "base_uri": "https://localhost:8080/"
        },
        "id": "B7urN9pxd6d4",
        "outputId": "1976ab51-74fc-486a-ffa0-e9adcdd61f5d"
      },
      "execution_count": null,
      "outputs": [
        {
          "output_type": "execute_result",
          "data": {
            "text/plain": [
              "{'mango': 100,\n",
              " 'pineapple': {'small': 90, 'large': 120},\n",
              " 'Guava': 80,\n",
              " 'Grapes': 120,\n",
              " 'oranges': 70}"
            ]
          },
          "metadata": {},
          "execution_count": 14
        }
      ]
    },
    {
      "cell_type": "code",
      "source": [
        "#dict.popitem() - removes last item from the dictionary\n",
        "\n",
        "fruits.popitem()\n",
        "fruits\n"
      ],
      "metadata": {
        "colab": {
          "base_uri": "https://localhost:8080/"
        },
        "id": "IgmKOetPvCxR",
        "outputId": "9fda93d9-2fde-4de3-c8a9-b25d1cdaf18d"
      },
      "execution_count": null,
      "outputs": [
        {
          "output_type": "execute_result",
          "data": {
            "text/plain": [
              "{'Apple': 120,\n",
              " 'mango': 100,\n",
              " 'pineapple': {'small': 90, 'large': 120},\n",
              " 'Guava': 80,\n",
              " 'Grapes': 120,\n",
              " 'oranges': 70}"
            ]
          },
          "metadata": {},
          "execution_count": 13
        }
      ]
    },
    {
      "cell_type": "code",
      "source": [
        "#del object\n",
        "\n",
        "del fruits\n",
        "fruits"
      ],
      "metadata": {
        "colab": {
          "base_uri": "https://localhost:8080/",
          "height": 193
        },
        "id": "yXWI9rVXvSy2",
        "outputId": "5cbd46d1-8f2b-4793-8e56-a1ce1d2b2ce5"
      },
      "execution_count": null,
      "outputs": [
        {
          "output_type": "error",
          "ename": "NameError",
          "evalue": "name 'fruits' is not defined",
          "traceback": [
            "\u001b[0;31m---------------------------------------------------------------------------\u001b[0m",
            "\u001b[0;31mNameError\u001b[0m                                 Traceback (most recent call last)",
            "\u001b[0;32m<ipython-input-16-5b8d6127eb22>\u001b[0m in \u001b[0;36m<cell line: 3>\u001b[0;34m()\u001b[0m\n\u001b[1;32m      1\u001b[0m \u001b[0;31m#del object\u001b[0m\u001b[0;34m\u001b[0m\u001b[0;34m\u001b[0m\u001b[0m\n\u001b[1;32m      2\u001b[0m \u001b[0;34m\u001b[0m\u001b[0m\n\u001b[0;32m----> 3\u001b[0;31m \u001b[0;32mdel\u001b[0m \u001b[0mfruits\u001b[0m\u001b[0;34m\u001b[0m\u001b[0;34m\u001b[0m\u001b[0m\n\u001b[0m\u001b[1;32m      4\u001b[0m \u001b[0mfruits\u001b[0m\u001b[0;34m\u001b[0m\u001b[0;34m\u001b[0m\u001b[0m\n",
            "\u001b[0;31mNameError\u001b[0m: name 'fruits' is not defined"
          ]
        }
      ]
    },
    {
      "cell_type": "code",
      "source": [
        "#Iterating in a dictionary\n",
        "\n",
        "for i in fruit:\n",
        "  print(i)"
      ],
      "metadata": {
        "colab": {
          "base_uri": "https://localhost:8080/"
        },
        "id": "1sjwcZsJvvBX",
        "outputId": "a90b422c-091b-4c26-ccca-ff6b3af8dd55"
      },
      "execution_count": null,
      "outputs": [
        {
          "output_type": "stream",
          "name": "stdout",
          "text": [
            "Apple\n",
            "Mango\n",
            "Oranges\n"
          ]
        }
      ]
    },
    {
      "cell_type": "code",
      "source": [
        "fruit[\"Apple\"]"
      ],
      "metadata": {
        "colab": {
          "base_uri": "https://localhost:8080/"
        },
        "id": "p2a6tJzfwESt",
        "outputId": "7e496e43-6f36-412a-d1e2-a342620ee7a2"
      },
      "execution_count": null,
      "outputs": [
        {
          "output_type": "execute_result",
          "data": {
            "text/plain": [
              "120"
            ]
          },
          "metadata": {},
          "execution_count": 20
        }
      ]
    },
    {
      "cell_type": "code",
      "source": [
        "#Iterating both key and value\n",
        "\n",
        "for i in fruit:\n",
        "  print(i,fruit[i])"
      ],
      "metadata": {
        "colab": {
          "base_uri": "https://localhost:8080/"
        },
        "id": "y7ePox1YwHkj",
        "outputId": "635765b5-3fc6-47fd-c2fe-4839560f61ad"
      },
      "execution_count": null,
      "outputs": [
        {
          "output_type": "stream",
          "name": "stdout",
          "text": [
            "Apple 120\n",
            "Mango 100\n",
            "Oranges 130\n"
          ]
        }
      ]
    },
    {
      "cell_type": "code",
      "source": [
        "#Iterating using dict.items()\n",
        "\n",
        "for key, value in fruit.items():\n",
        "  print(key,value)"
      ],
      "metadata": {
        "colab": {
          "base_uri": "https://localhost:8080/"
        },
        "id": "dq6OJvz4wP62",
        "outputId": "7aad5486-bf81-44f1-e7f7-ceaa27cd66c4"
      },
      "execution_count": null,
      "outputs": [
        {
          "output_type": "stream",
          "name": "stdout",
          "text": [
            "Apple 120\n",
            "Mango 100\n",
            "Oranges 130\n"
          ]
        }
      ]
    },
    {
      "cell_type": "code",
      "source": [
        "fruit.items()"
      ],
      "metadata": {
        "colab": {
          "base_uri": "https://localhost:8080/"
        },
        "id": "ZUALkThqwcT7",
        "outputId": "ca90f66a-d88b-4c24-c1fd-955496de9eaa"
      },
      "execution_count": null,
      "outputs": [
        {
          "output_type": "execute_result",
          "data": {
            "text/plain": [
              "dict_items([('Apple', 120), ('Mango', 100), ('Oranges', 130)])"
            ]
          },
          "metadata": {},
          "execution_count": 23
        }
      ]
    },
    {
      "cell_type": "code",
      "source": [
        "#Dictionary methods\n",
        "\n",
        "#keys() - fetches keys\n",
        "\n",
        "fruit.keys()"
      ],
      "metadata": {
        "colab": {
          "base_uri": "https://localhost:8080/"
        },
        "id": "m12uKkB4woA6",
        "outputId": "7bb7839c-7f87-48ff-eceb-1b9eaff7580c"
      },
      "execution_count": null,
      "outputs": [
        {
          "output_type": "execute_result",
          "data": {
            "text/plain": [
              "dict_keys(['Apple', 'Mango', 'Oranges'])"
            ]
          },
          "metadata": {},
          "execution_count": 24
        }
      ]
    },
    {
      "cell_type": "code",
      "source": [
        "#values() - fetches values\n",
        "\n",
        "fruit.values()"
      ],
      "metadata": {
        "colab": {
          "base_uri": "https://localhost:8080/"
        },
        "id": "nZUEpslDw7aZ",
        "outputId": "8d7baf15-ec30-48d6-805c-1439805b1cc9"
      },
      "execution_count": null,
      "outputs": [
        {
          "output_type": "execute_result",
          "data": {
            "text/plain": [
              "dict_values([120, 100, 130])"
            ]
          },
          "metadata": {},
          "execution_count": 25
        }
      ]
    },
    {
      "cell_type": "code",
      "source": [
        "#items() - fetches both keys and values\n",
        "\n",
        "fruit.items()"
      ],
      "metadata": {
        "colab": {
          "base_uri": "https://localhost:8080/"
        },
        "id": "KhH5GEx4xEYF",
        "outputId": "4f259d32-b742-406a-b1f5-e79ecdac3e8e"
      },
      "execution_count": null,
      "outputs": [
        {
          "output_type": "execute_result",
          "data": {
            "text/plain": [
              "dict_items([('Apple', 120), ('Mango', 100), ('Oranges', 130)])"
            ]
          },
          "metadata": {},
          "execution_count": 26
        }
      ]
    },
    {
      "cell_type": "code",
      "source": [
        "#Challenge - take an input and find the freq of each letter and return the letter and their freq\n",
        "\n",
        "name = \"Rahul janghu\"\n",
        "\n",
        "freq = {}\n",
        "for i in name:\n",
        "  #check for presence\n",
        "  if i not in freq:\n",
        "    freq[i] = 1\n",
        "  #if present increment the freq by factor of 1\n",
        "  else:\n",
        "    freq[i] += 1\n",
        "print(freq)"
      ],
      "metadata": {
        "colab": {
          "base_uri": "https://localhost:8080/"
        },
        "id": "PpipUjUpxKK4",
        "outputId": "3d03678a-8e3d-4ae0-a8e9-eba4158e61b4"
      },
      "execution_count": null,
      "outputs": [
        {
          "output_type": "stream",
          "name": "stdout",
          "text": [
            "{'R': 1, 'a': 2, 'h': 2, 'u': 2, 'l': 1, ' ': 1, 'j': 1, 'n': 1, 'g': 1}\n"
          ]
        }
      ]
    },
    {
      "cell_type": "code",
      "source": [
        "#Sets : Unique collection, Unordered, Unindexed, Mutable\n",
        "\n",
        "lst = [1,2,3,1,1]\n",
        "lst"
      ],
      "metadata": {
        "colab": {
          "base_uri": "https://localhost:8080/"
        },
        "id": "q-ymY1IUFq4C",
        "outputId": "061e9f6a-5109-4ddf-dfa5-5fee43ca0809"
      },
      "execution_count": null,
      "outputs": [
        {
          "output_type": "execute_result",
          "data": {
            "text/plain": [
              "[1, 2, 3, 1, 1]"
            ]
          },
          "metadata": {},
          "execution_count": 28
        }
      ]
    },
    {
      "cell_type": "code",
      "source": [
        "#Creating a Set : set() set(iterable)\n",
        "\n",
        "#empty set\n",
        "\n",
        "s = {}\n",
        "type(s)"
      ],
      "metadata": {
        "colab": {
          "base_uri": "https://localhost:8080/"
        },
        "id": "n6Hl5P-5GF2e",
        "outputId": "8d696c90-7ec9-4041-d39c-988c2ca37afc"
      },
      "execution_count": null,
      "outputs": [
        {
          "output_type": "execute_result",
          "data": {
            "text/plain": [
              "dict"
            ]
          },
          "metadata": {},
          "execution_count": 29
        }
      ]
    },
    {
      "cell_type": "code",
      "source": [
        "s = set()\n",
        "print(s)\n",
        "type(s)"
      ],
      "metadata": {
        "colab": {
          "base_uri": "https://localhost:8080/"
        },
        "id": "1sJLJkeAGdpw",
        "outputId": "9cddb828-0b6a-4b3f-9a84-5e160a49a685"
      },
      "execution_count": null,
      "outputs": [
        {
          "output_type": "stream",
          "name": "stdout",
          "text": [
            "set()\n"
          ]
        },
        {
          "output_type": "execute_result",
          "data": {
            "text/plain": [
              "set"
            ]
          },
          "metadata": {},
          "execution_count": 31
        }
      ]
    },
    {
      "cell_type": "code",
      "source": [
        "#Non empty set\n",
        "\n",
        "s = {1,2,3,1,2,4,5,1,2}\n",
        "print(s)"
      ],
      "metadata": {
        "colab": {
          "base_uri": "https://localhost:8080/"
        },
        "id": "MWceZtkWGrtE",
        "outputId": "da3301b5-9251-46a0-9c7a-21fb2f1ba5c1"
      },
      "execution_count": null,
      "outputs": [
        {
          "output_type": "stream",
          "name": "stdout",
          "text": [
            "{1, 2, 3, 4, 5}\n"
          ]
        }
      ]
    },
    {
      "cell_type": "code",
      "source": [
        "s = set(\"rahul\")\n",
        "type(s)"
      ],
      "metadata": {
        "colab": {
          "base_uri": "https://localhost:8080/"
        },
        "id": "JkdJWgkpG6sC",
        "outputId": "6b94537d-dee4-40d8-ee47-8aa4c6e58fa6"
      },
      "execution_count": null,
      "outputs": [
        {
          "output_type": "execute_result",
          "data": {
            "text/plain": [
              "set"
            ]
          },
          "metadata": {},
          "execution_count": 33
        }
      ]
    },
    {
      "cell_type": "code",
      "source": [
        "s"
      ],
      "metadata": {
        "colab": {
          "base_uri": "https://localhost:8080/"
        },
        "id": "xF7BeRCaHAoH",
        "outputId": "c8e43544-8077-4d68-ca41-8680ca678f64"
      },
      "execution_count": null,
      "outputs": [
        {
          "output_type": "execute_result",
          "data": {
            "text/plain": [
              "{'a', 'h', 'l', 'r', 'u'}"
            ]
          },
          "metadata": {},
          "execution_count": 34
        }
      ]
    },
    {
      "cell_type": "code",
      "source": [
        "#Iteration\n",
        "for i in s:\n",
        "  print(i)"
      ],
      "metadata": {
        "colab": {
          "base_uri": "https://localhost:8080/"
        },
        "id": "hxPn8EZRHENQ",
        "outputId": "992347dd-b7e2-4803-ab3b-c39da806e2bf"
      },
      "execution_count": null,
      "outputs": [
        {
          "output_type": "stream",
          "name": "stdout",
          "text": [
            "u\n",
            "h\n",
            "a\n",
            "l\n",
            "r\n"
          ]
        }
      ]
    },
    {
      "cell_type": "code",
      "source": [
        "#Updating a set\n",
        "#add : For single element, update(iterable)\n",
        "\n",
        "s = {1,2,3,3,5,4,6}\n",
        "s"
      ],
      "metadata": {
        "colab": {
          "base_uri": "https://localhost:8080/"
        },
        "id": "wbHPgTpvHRPt",
        "outputId": "4856c722-4e9d-458f-a33e-c670bc42d6a7"
      },
      "execution_count": null,
      "outputs": [
        {
          "output_type": "execute_result",
          "data": {
            "text/plain": [
              "{1, 2, 3, 4, 5, 6}"
            ]
          },
          "metadata": {},
          "execution_count": 38
        }
      ]
    },
    {
      "cell_type": "code",
      "source": [
        "s.add(8)\n",
        "s"
      ],
      "metadata": {
        "colab": {
          "base_uri": "https://localhost:8080/"
        },
        "id": "p3IlZJGZHgcn",
        "outputId": "311bcbcf-5a8c-4f42-f3c3-9853d7c18a90"
      },
      "execution_count": null,
      "outputs": [
        {
          "output_type": "execute_result",
          "data": {
            "text/plain": [
              "{1, 2, 3, 4, 5, 6, 8}"
            ]
          },
          "metadata": {},
          "execution_count": 40
        }
      ]
    },
    {
      "cell_type": "code",
      "source": [
        "name = \"Rahul\"\n",
        "s.update(name)"
      ],
      "metadata": {
        "id": "XJGT1VguHkn9"
      },
      "execution_count": null,
      "outputs": []
    },
    {
      "cell_type": "code",
      "source": [
        "s"
      ],
      "metadata": {
        "colab": {
          "base_uri": "https://localhost:8080/"
        },
        "id": "DOP8CjQnHqM9",
        "outputId": "9a0302af-05b8-4230-e45a-a50ec992af15"
      },
      "execution_count": null,
      "outputs": [
        {
          "output_type": "execute_result",
          "data": {
            "text/plain": [
              "{1, 2, 3, 4, 5, 6, 8, 'R', 'a', 'h', 'l', 'u'}"
            ]
          },
          "metadata": {},
          "execution_count": 42
        }
      ]
    },
    {
      "cell_type": "code",
      "source": [
        "#Deleting an element\n",
        "#pop : removes random element. We are not sure what it is, remove(element): removes Particular element\n",
        "\n",
        "s.pop()"
      ],
      "metadata": {
        "colab": {
          "base_uri": "https://localhost:8080/"
        },
        "id": "23MG26iQHyc4",
        "outputId": "5cb49705-0760-482f-a701-34705b370de9"
      },
      "execution_count": null,
      "outputs": [
        {
          "output_type": "execute_result",
          "data": {
            "text/plain": [
              "1"
            ]
          },
          "metadata": {},
          "execution_count": 43
        }
      ]
    },
    {
      "cell_type": "code",
      "source": [
        "s.remove(2)\n",
        "s"
      ],
      "metadata": {
        "colab": {
          "base_uri": "https://localhost:8080/"
        },
        "id": "nWPYBbEoIDUg",
        "outputId": "e1af8a1d-ff53-4a6b-cb26-564ccbef3091"
      },
      "execution_count": null,
      "outputs": [
        {
          "output_type": "execute_result",
          "data": {
            "text/plain": [
              "{4, 5, 6, 8, 'R', 'a', 'h', 'l', 'u'}"
            ]
          },
          "metadata": {},
          "execution_count": 48
        }
      ]
    },
    {
      "cell_type": "code",
      "source": [
        "#Intersection\n",
        "#Suppose Scaler has two courses available for students. Python and Java.\n",
        "#You want to find out which students are enrolled in both the Python and Java Courses. Then you csn use the intersection method.\n",
        "\n",
        "#We are taking names instead of unique Ids for ease of understanding\n",
        "\n",
        "python = {\"Iron man\",\"Hulk\",\"Spidy\",\"Rahul\"}\n",
        "Java = {\"Iron man\",\"Harry potter\",\"Ant man\"}\n",
        "\n",
        "python.intersection(Java)"
      ],
      "metadata": {
        "colab": {
          "base_uri": "https://localhost:8080/"
        },
        "id": "60iE9VcxIPhf",
        "outputId": "90212488-bf31-4faa-fbb7-9a85de10c016"
      },
      "execution_count": null,
      "outputs": [
        {
          "output_type": "execute_result",
          "data": {
            "text/plain": [
              "{'Iron man'}"
            ]
          },
          "metadata": {},
          "execution_count": 49
        }
      ]
    },
    {
      "cell_type": "code",
      "source": [
        "Java.intersection(python)"
      ],
      "metadata": {
        "colab": {
          "base_uri": "https://localhost:8080/"
        },
        "id": "1d8BTQ3xJMpK",
        "outputId": "6092384c-a31c-4b1b-9e29-a055a3d4dbac"
      },
      "execution_count": null,
      "outputs": [
        {
          "output_type": "execute_result",
          "data": {
            "text/plain": [
              "{'Iron man'}"
            ]
          },
          "metadata": {},
          "execution_count": 50
        }
      ]
    },
    {
      "cell_type": "code",
      "source": [
        "#Union\n",
        "#Suppose you want to find out which students are enrolled in either the python or the java course or in both. Then you csn use the union method.\n",
        "\n",
        "python = {\"Iron man\",\"Hulk\",\"Spidy\",\"Rahul\"}\n",
        "Java = {\"Iron man\",\"Harry potter\",\"Ant man\"}\n",
        "\n",
        "python.union(Java)"
      ],
      "metadata": {
        "id": "jiYBUn57JRxD",
        "colab": {
          "base_uri": "https://localhost:8080/"
        },
        "outputId": "688222bc-2d58-4328-ecc4-1e52e6942a91"
      },
      "execution_count": null,
      "outputs": [
        {
          "output_type": "execute_result",
          "data": {
            "text/plain": [
              "{'Ant man', 'Harry potter', 'Hulk', 'Iron man', 'Rahul', 'Spidy'}"
            ]
          },
          "metadata": {},
          "execution_count": 51
        }
      ]
    },
    {
      "cell_type": "code",
      "source": [
        "#Difference : Suppose you want to find out the set of students who have enrolled in the Python course but not in Java course of vice-versa, then we can use the difference method.\n",
        "\n",
        "python = {\"Iron man\",\"Hulk\",\"Spidy\",\"Rahul\"}\n",
        "Java = {\"Iron man\",\"Harry potter\",\"Ant man\"}\n",
        "\n",
        "python.difference(Java)"
      ],
      "metadata": {
        "colab": {
          "base_uri": "https://localhost:8080/"
        },
        "id": "dUSKYdK-gn9t",
        "outputId": "1a1a75d3-4500-4951-862f-7e4bac746f7e"
      },
      "execution_count": null,
      "outputs": [
        {
          "output_type": "execute_result",
          "data": {
            "text/plain": [
              "{'Hulk', 'Rahul', 'Spidy'}"
            ]
          },
          "metadata": {},
          "execution_count": 53
        }
      ]
    },
    {
      "cell_type": "code",
      "source": [
        "#Challenge : Count number of unique elements in a sentence\n",
        "\n",
        "sent = \"be the change you wish to see in the world\"\n",
        "s = set(sent)\n",
        "s"
      ],
      "metadata": {
        "colab": {
          "base_uri": "https://localhost:8080/"
        },
        "id": "sEkc6PAEhY0d",
        "outputId": "d0626881-55c4-441d-ba4b-3ac98e201d83"
      },
      "execution_count": null,
      "outputs": [
        {
          "output_type": "execute_result",
          "data": {
            "text/plain": [
              "{' ',\n",
              " 'a',\n",
              " 'b',\n",
              " 'c',\n",
              " 'd',\n",
              " 'e',\n",
              " 'g',\n",
              " 'h',\n",
              " 'i',\n",
              " 'l',\n",
              " 'n',\n",
              " 'o',\n",
              " 'r',\n",
              " 's',\n",
              " 't',\n",
              " 'u',\n",
              " 'w',\n",
              " 'y'}"
            ]
          },
          "metadata": {},
          "execution_count": 54
        }
      ]
    },
    {
      "cell_type": "code",
      "source": [
        "lst = sent.split()\n",
        "lst"
      ],
      "metadata": {
        "colab": {
          "base_uri": "https://localhost:8080/"
        },
        "id": "VtIxRJdshwNQ",
        "outputId": "7ca2ee50-0565-4ff7-915d-90b69cca58da"
      },
      "execution_count": null,
      "outputs": [
        {
          "output_type": "execute_result",
          "data": {
            "text/plain": [
              "['be', 'the', 'change', 'you', 'wish', 'to', 'see', 'in', 'the', 'world']"
            ]
          },
          "metadata": {},
          "execution_count": 56
        }
      ]
    },
    {
      "cell_type": "code",
      "source": [
        "s = set(lst)"
      ],
      "metadata": {
        "id": "_hMu4DdFjGBe"
      },
      "execution_count": null,
      "outputs": []
    },
    {
      "cell_type": "code",
      "source": [
        "len(s)"
      ],
      "metadata": {
        "colab": {
          "base_uri": "https://localhost:8080/"
        },
        "id": "wy-2jSa1iLzp",
        "outputId": "63ee82b4-b237-4e6c-e793-fc99667f2b33"
      },
      "execution_count": null,
      "outputs": [
        {
          "output_type": "execute_result",
          "data": {
            "text/plain": [
              "9"
            ]
          },
          "metadata": {},
          "execution_count": 59
        }
      ]
    },
    {
      "cell_type": "code",
      "source": [
        "#Final code\n",
        "\n",
        "sent = \"be the change you wish to see in the world\"\n",
        "#unique word list\n",
        "lst = sent.split()\n",
        "\n",
        "#Convert into set\n",
        "s = set(lst)\n",
        "print(len(s))"
      ],
      "metadata": {
        "colab": {
          "base_uri": "https://localhost:8080/"
        },
        "id": "2oHeu9M7jMkl",
        "outputId": "1723346a-8864-443b-9c7f-ac1b242da7e4"
      },
      "execution_count": null,
      "outputs": [
        {
          "output_type": "stream",
          "name": "stdout",
          "text": [
            "9\n"
          ]
        }
      ]
    },
    {
      "cell_type": "code",
      "source": [
        "a={'Aurn', 'Nikhil', 'Seeta'}\n",
        "a[0]= 'Arun'\n",
        "\n"
      ],
      "metadata": {
        "colab": {
          "base_uri": "https://localhost:8080/",
          "height": 176
        },
        "id": "4lvAik9Ujwmn",
        "outputId": "66c30e01-dd07-4760-f862-fafd078fd74d"
      },
      "execution_count": null,
      "outputs": [
        {
          "output_type": "error",
          "ename": "TypeError",
          "evalue": "'set' object does not support item assignment",
          "traceback": [
            "\u001b[0;31m---------------------------------------------------------------------------\u001b[0m",
            "\u001b[0;31mTypeError\u001b[0m                                 Traceback (most recent call last)",
            "\u001b[0;32m<ipython-input-64-35389a3212bb>\u001b[0m in \u001b[0;36m<cell line: 2>\u001b[0;34m()\u001b[0m\n\u001b[1;32m      1\u001b[0m \u001b[0ma\u001b[0m\u001b[0;34m=\u001b[0m\u001b[0;34m{\u001b[0m\u001b[0;34m'Aurn'\u001b[0m\u001b[0;34m,\u001b[0m \u001b[0;34m'Nikhil'\u001b[0m\u001b[0;34m,\u001b[0m \u001b[0;34m'Seeta'\u001b[0m\u001b[0;34m}\u001b[0m\u001b[0;34m\u001b[0m\u001b[0;34m\u001b[0m\u001b[0m\n\u001b[0;32m----> 2\u001b[0;31m \u001b[0ma\u001b[0m\u001b[0;34m[\u001b[0m\u001b[0;36m0\u001b[0m\u001b[0;34m]\u001b[0m\u001b[0;34m=\u001b[0m \u001b[0;34m'Arun'\u001b[0m\u001b[0;34m\u001b[0m\u001b[0;34m\u001b[0m\u001b[0m\n\u001b[0m\u001b[1;32m      3\u001b[0m \u001b[0;34m\u001b[0m\u001b[0m\n",
            "\u001b[0;31mTypeError\u001b[0m: 'set' object does not support item assignment"
          ]
        }
      ]
    },
    {
      "cell_type": "code",
      "source": [
        "#Functions : user defined piece of code. It works only when its called by user. It helps in reusability of code and helps in reducing errors in your code. example - print, range etc.\n",
        "#Helps in reusability of code, Make code manageable and organised\n",
        "#User defined and built-in\n",
        "\n",
        "#Defining a function\n",
        "def greet():\n",
        "  #this is body of the function\n",
        "  print(\"hey have a good day!!\")\n",
        "\n",
        "print(greet)\n",
        "#Calling a function\n",
        "greet()"
      ],
      "metadata": {
        "colab": {
          "base_uri": "https://localhost:8080/"
        },
        "id": "6vdU2MCMqcjQ",
        "outputId": "88caee11-8983-4f71-8586-9c3df717d298"
      },
      "execution_count": null,
      "outputs": [
        {
          "output_type": "stream",
          "name": "stdout",
          "text": [
            "<function greet at 0x78b26e21bbe0>\n",
            "hey have a good day!!\n"
          ]
        }
      ]
    },
    {
      "cell_type": "code",
      "source": [
        "#Docstring\n",
        "def greet():\n",
        "  \"\"\"\n",
        "  This function greets everyone when its called\n",
        "  \"\"\"\n",
        "  print(\"hey,have a good day\")\n",
        "\n",
        "greet()\n",
        "greet?"
      ],
      "metadata": {
        "colab": {
          "base_uri": "https://localhost:8080/"
        },
        "id": "bO4AdGzRrz-1",
        "outputId": "82822963-b1ae-4410-b00e-b40dbdf5b51f"
      },
      "execution_count": null,
      "outputs": [
        {
          "output_type": "stream",
          "name": "stdout",
          "text": [
            "hey,have a good day\n"
          ]
        }
      ]
    },
    {
      "cell_type": "code",
      "source": [
        "#Parameters\n",
        "#These are place holders in the function.\n",
        "#When defining them we call them as Parameters.\n",
        "#When passing the actual value we call them as Arguements.\n",
        "\n",
        "name = input()\n",
        "\n",
        "def greet(name):\n",
        "  print(\"hey, how are you\",name)\n",
        "\n",
        "greet(name)"
      ],
      "metadata": {
        "colab": {
          "base_uri": "https://localhost:8080/"
        },
        "id": "qMns4Buot0fT",
        "outputId": "0eb1fd24-18b9-4d42-c53f-0554c6c25c39"
      },
      "execution_count": null,
      "outputs": [
        {
          "output_type": "stream",
          "name": "stdout",
          "text": [
            "Rahul\n",
            "hey, how are you Rahul\n"
          ]
        }
      ]
    },
    {
      "cell_type": "code",
      "source": [
        "def add(a,b):\n",
        "  c = a + b\n",
        "  print(c)\n",
        "\n",
        "add(2,5)"
      ],
      "metadata": {
        "colab": {
          "base_uri": "https://localhost:8080/"
        },
        "id": "X6yPoTeyut5e",
        "outputId": "7dc813ad-8cbf-499b-efce-cce147ef263d"
      },
      "execution_count": null,
      "outputs": [
        {
          "output_type": "stream",
          "name": "stdout",
          "text": [
            "7\n"
          ]
        }
      ]
    },
    {
      "cell_type": "code",
      "source": [
        "#Return\n",
        "#A function ends when return statement is executed\n",
        "#It returns the expression back to the function\n",
        "#The code after return statement are not executed\n",
        "#If there is nor return value then function returns None\n",
        "\n",
        "#Return vs print\n",
        "\n",
        "def add(a,b):\n",
        "  c = a+ b\n",
        "  print(c)"
      ],
      "metadata": {
        "id": "9FGcstZ4u4G8"
      },
      "execution_count": null,
      "outputs": []
    },
    {
      "cell_type": "code",
      "source": [
        "add(3,4)"
      ],
      "metadata": {
        "colab": {
          "base_uri": "https://localhost:8080/"
        },
        "id": "SFW3W2TtvjJW",
        "outputId": "028b28d6-9cf6-469d-b52d-333a46e18175"
      },
      "execution_count": null,
      "outputs": [
        {
          "output_type": "stream",
          "name": "stdout",
          "text": [
            "7\n"
          ]
        }
      ]
    },
    {
      "cell_type": "code",
      "source": [
        "a = add(2,4)\n",
        "type(a)"
      ],
      "metadata": {
        "colab": {
          "base_uri": "https://localhost:8080/"
        },
        "id": "fAROUrq4vpm1",
        "outputId": "61935596-fdd1-4959-8c20-5bb59ddad6e6"
      },
      "execution_count": null,
      "outputs": [
        {
          "output_type": "stream",
          "name": "stdout",
          "text": [
            "6\n"
          ]
        },
        {
          "output_type": "execute_result",
          "data": {
            "text/plain": [
              "NoneType"
            ]
          },
          "metadata": {},
          "execution_count": 15
        }
      ]
    },
    {
      "cell_type": "code",
      "source": [
        "def add(a,b):\n",
        "  c = a + b\n",
        "  return c\n",
        "\n",
        "add(2,4)"
      ],
      "metadata": {
        "colab": {
          "base_uri": "https://localhost:8080/"
        },
        "id": "L1gpQoxhvypy",
        "outputId": "a75ad42c-e279-4f4f-e930-a84e2b7cd160"
      },
      "execution_count": null,
      "outputs": [
        {
          "output_type": "execute_result",
          "data": {
            "text/plain": [
              "6"
            ]
          },
          "metadata": {},
          "execution_count": 16
        }
      ]
    },
    {
      "cell_type": "code",
      "source": [
        "b = add(2,3)\n",
        "print(b, type(b))\n"
      ],
      "metadata": {
        "colab": {
          "base_uri": "https://localhost:8080/"
        },
        "id": "HRNE3vuPv7u5",
        "outputId": "25eb29d7-301e-459d-af50-9ef641ac85b3"
      },
      "execution_count": null,
      "outputs": [
        {
          "output_type": "stream",
          "name": "stdout",
          "text": [
            "5 <class 'int'>\n"
          ]
        }
      ]
    },
    {
      "cell_type": "code",
      "source": [
        "#If no return object then it returns Nonetype\n",
        "def func():\n",
        "  return\n",
        "\n",
        "c = func()\n",
        "print(c, type(c))"
      ],
      "metadata": {
        "colab": {
          "base_uri": "https://localhost:8080/"
        },
        "id": "YDaO_1SOwQut",
        "outputId": "418c8e7a-9552-47d9-e2c6-de624d109f89"
      },
      "execution_count": null,
      "outputs": [
        {
          "output_type": "stream",
          "name": "stdout",
          "text": [
            "None <class 'NoneType'>\n"
          ]
        }
      ]
    },
    {
      "cell_type": "code",
      "source": [
        "#Code after return statement does'nt get executed\n",
        "def func():\n",
        "  print(\"Before return\")\n",
        "  return \"Rahul\"\n",
        "  print(\"After return\")\n",
        "\n",
        "func()"
      ],
      "metadata": {
        "colab": {
          "base_uri": "https://localhost:8080/",
          "height": 53
        },
        "id": "hLmvPXKywdcR",
        "outputId": "092d7287-1caf-4a8b-ff6b-3ff61532b687"
      },
      "execution_count": null,
      "outputs": [
        {
          "output_type": "stream",
          "name": "stdout",
          "text": [
            "Before return\n"
          ]
        },
        {
          "output_type": "execute_result",
          "data": {
            "text/plain": [
              "'Rahul'"
            ],
            "application/vnd.google.colaboratory.intrinsic+json": {
              "type": "string"
            }
          },
          "metadata": {},
          "execution_count": 23
        }
      ]
    },
    {
      "cell_type": "code",
      "source": [
        "a = func()\n",
        "#print(a)"
      ],
      "metadata": {
        "colab": {
          "base_uri": "https://localhost:8080/"
        },
        "id": "zpEUI4Mfw-yG",
        "outputId": "78d001ef-602c-42ea-abd5-8a32df115e75"
      },
      "execution_count": null,
      "outputs": [
        {
          "output_type": "stream",
          "name": "stdout",
          "text": [
            "Before return\n"
          ]
        }
      ]
    },
    {
      "cell_type": "code",
      "source": [
        "a = func()\n",
        "print(a)"
      ],
      "metadata": {
        "colab": {
          "base_uri": "https://localhost:8080/"
        },
        "id": "LXOH5A85xHcU",
        "outputId": "35451130-a893-4554-ec8b-e04d0bdf0d95"
      },
      "execution_count": null,
      "outputs": [
        {
          "output_type": "stream",
          "name": "stdout",
          "text": [
            "Before return\n",
            "Rahul\n"
          ]
        }
      ]
    },
    {
      "cell_type": "code",
      "source": [
        "a"
      ],
      "metadata": {
        "colab": {
          "base_uri": "https://localhost:8080/",
          "height": 36
        },
        "id": "W3opifVuxcuv",
        "outputId": "b6731014-5902-4bd6-8739-bd93454fda0f"
      },
      "execution_count": null,
      "outputs": [
        {
          "output_type": "execute_result",
          "data": {
            "text/plain": [
              "'Rahul'"
            ],
            "application/vnd.google.colaboratory.intrinsic+json": {
              "type": "string"
            }
          },
          "metadata": {},
          "execution_count": 26
        }
      ]
    },
    {
      "cell_type": "code",
      "source": [
        "#Returning multiple values\n",
        "def intro(name, age, hobby):\n",
        "  return name,age,hobby\n"
      ],
      "metadata": {
        "id": "Wxk-zWpexeos"
      },
      "execution_count": null,
      "outputs": []
    },
    {
      "cell_type": "code",
      "source": [
        "c,d,e = intro(\"rahul\",25,\"Travelling\")\n",
        "print(c,d,e,sep=\",\")\n",
        "\n"
      ],
      "metadata": {
        "colab": {
          "base_uri": "https://localhost:8080/"
        },
        "id": "Z1gXetrix1UD",
        "outputId": "f6dff666-642b-4b13-ae47-72b41bcaf436"
      },
      "execution_count": null,
      "outputs": [
        {
          "output_type": "stream",
          "name": "stdout",
          "text": [
            "rahul,25,Travelling\n"
          ]
        }
      ]
    },
    {
      "cell_type": "code",
      "source": [
        "c = intro(\"rahul\",25,\"Travelling\")\n",
        "print(c, type(c))"
      ],
      "metadata": {
        "colab": {
          "base_uri": "https://localhost:8080/"
        },
        "id": "C_h3blRYyUAM",
        "outputId": "27168389-8192-4355-e143-a166274413cb"
      },
      "execution_count": null,
      "outputs": [
        {
          "output_type": "stream",
          "name": "stdout",
          "text": [
            "('rahul', 25, 'Travelling') <class 'tuple'>\n"
          ]
        }
      ]
    },
    {
      "cell_type": "code",
      "source": [
        "a , b = 2 , 3\n",
        "print(a,b)"
      ],
      "metadata": {
        "colab": {
          "base_uri": "https://localhost:8080/"
        },
        "id": "VO2fAyWNxvKw",
        "outputId": "750dd67b-b587-4ef4-e406-2b0d25937a89"
      },
      "execution_count": null,
      "outputs": [
        {
          "output_type": "stream",
          "name": "stdout",
          "text": [
            "2 3\n"
          ]
        }
      ]
    },
    {
      "cell_type": "code",
      "source": [
        "#Scope of variable\n",
        "#There are two scope of a variable : Global and Local\n",
        "#Global variable can be used anywhere in a program\n",
        "#Local variable can only be used locally inside a program(function)\n",
        "\n",
        "#if a can be used anywhere in the program\n",
        "a = 5\n",
        "\n",
        "def func():\n",
        "  print(a)\n",
        "\n",
        "func()\n",
        "print(a)"
      ],
      "metadata": {
        "colab": {
          "base_uri": "https://localhost:8080/"
        },
        "id": "qro7tbHtyYoF",
        "outputId": "5a16cdc7-8c9d-4af9-8b0b-a3514e44d9c1"
      },
      "execution_count": null,
      "outputs": [
        {
          "output_type": "stream",
          "name": "stdout",
          "text": [
            "5\n",
            "5\n"
          ]
        }
      ]
    },
    {
      "cell_type": "code",
      "source": [
        "a = 5\n",
        "\n",
        "def func():\n",
        "  x = 3\n",
        "  print(x)\n",
        "\n",
        "func()\n",
        "print(a)\n",
        "#print(x)"
      ],
      "metadata": {
        "colab": {
          "base_uri": "https://localhost:8080/"
        },
        "id": "zAUD091LGVwR",
        "outputId": "a9f41ae5-55a8-4322-c38c-4ebb56bc0208"
      },
      "execution_count": null,
      "outputs": [
        {
          "output_type": "stream",
          "name": "stdout",
          "text": [
            "3\n",
            "5\n"
          ]
        }
      ]
    },
    {
      "cell_type": "code",
      "source": [
        "a = 5\n",
        "\n",
        "def func():\n",
        "  a = 20\n",
        "  print(a)\n",
        "\n",
        "func()\n",
        "print(a)"
      ],
      "metadata": {
        "colab": {
          "base_uri": "https://localhost:8080/"
        },
        "id": "ufCjCDrHG97C",
        "outputId": "5d3ee855-0704-4fb6-d600-76c930469a37"
      },
      "execution_count": null,
      "outputs": [
        {
          "output_type": "stream",
          "name": "stdout",
          "text": [
            "20\n",
            "5\n"
          ]
        }
      ]
    },
    {
      "cell_type": "code",
      "source": [
        "#A global keyword is a keyword that allows a user to modify a variable outside the current scope.\n",
        "#It is used to create global variables in Python from a non-global scope, i.e. inside a function.\n",
        "#Global keyword is used inside a function only when we want to do assignments or when we want to change a variable. Global is not needed for printing and accessing.\n",
        "\n",
        "a = 5\n",
        "\n",
        "def func():\n",
        "  global a\n",
        "  a = 20\n",
        "  print(a)\n",
        "\n",
        "print(a)\n",
        "func()\n",
        "print(a)\n"
      ],
      "metadata": {
        "id": "ZLhl9qIPHo4G"
      },
      "execution_count": null,
      "outputs": []
    },
    {
      "cell_type": "code",
      "source": [
        "#Lambda function : used when we need nameless function for short period of time\n",
        "\n",
        "def add(a,b):\n",
        "  return a + b\n",
        "\n",
        "add(3,4)\n"
      ],
      "metadata": {
        "colab": {
          "base_uri": "https://localhost:8080/"
        },
        "id": "pUYBh7s1Ibbn",
        "outputId": "63420bb7-a7b2-4234-ca31-395738ecfcd1"
      },
      "execution_count": null,
      "outputs": [
        {
          "output_type": "execute_result",
          "data": {
            "text/plain": [
              "7"
            ]
          },
          "metadata": {},
          "execution_count": 4
        }
      ]
    },
    {
      "cell_type": "code",
      "source": [
        "(lambda a, b : a + b)(3,4)\n"
      ],
      "metadata": {
        "colab": {
          "base_uri": "https://localhost:8080/"
        },
        "id": "sakmVxtj9ZQn",
        "outputId": "e08b83cc-ba1e-4182-9665-ca54365b6455"
      },
      "execution_count": null,
      "outputs": [
        {
          "output_type": "execute_result",
          "data": {
            "text/plain": [
              "7"
            ]
          },
          "metadata": {},
          "execution_count": 2
        }
      ]
    },
    {
      "cell_type": "code",
      "source": [
        "func = lambda a, b : a + b\n",
        "type(func)"
      ],
      "metadata": {
        "colab": {
          "base_uri": "https://localhost:8080/"
        },
        "id": "MDU1jNa4-Pe8",
        "outputId": "d098db0e-1883-4963-cbba-57bfe90aac55"
      },
      "execution_count": null,
      "outputs": [
        {
          "output_type": "execute_result",
          "data": {
            "text/plain": [
              "function"
            ]
          },
          "metadata": {},
          "execution_count": 3
        }
      ]
    },
    {
      "cell_type": "code",
      "source": [
        "func(5,2)"
      ],
      "metadata": {
        "colab": {
          "base_uri": "https://localhost:8080/"
        },
        "id": "tZyVF7Zq-fAg",
        "outputId": "308699ab-11b0-4ef3-83bb-323f67696a00"
      },
      "execution_count": null,
      "outputs": [
        {
          "output_type": "execute_result",
          "data": {
            "text/plain": [
              "7"
            ]
          },
          "metadata": {},
          "execution_count": 4
        }
      ]
    },
    {
      "cell_type": "code",
      "source": [
        "def larger(a, b):\n",
        "  if a > b:\n",
        "    return a;\n",
        "  else:\n",
        "    return b\n",
        "\n",
        "larger(4,3)"
      ],
      "metadata": {
        "colab": {
          "base_uri": "https://localhost:8080/"
        },
        "id": "oZFRo5AF-jJt",
        "outputId": "eef1b630-addb-45fa-a643-e5b689516fc4"
      },
      "execution_count": null,
      "outputs": [
        {
          "output_type": "execute_result",
          "data": {
            "text/plain": [
              "4"
            ]
          },
          "metadata": {},
          "execution_count": 5
        }
      ]
    },
    {
      "cell_type": "code",
      "source": [
        "(lambda a, b : a if a > b else b)(4,3)"
      ],
      "metadata": {
        "colab": {
          "base_uri": "https://localhost:8080/"
        },
        "id": "IB3rVvCs-3iO",
        "outputId": "63792876-5c1f-4924-f1b3-6cf2b41e8d68"
      },
      "execution_count": null,
      "outputs": [
        {
          "output_type": "execute_result",
          "data": {
            "text/plain": [
              "4"
            ]
          },
          "metadata": {},
          "execution_count": 6
        }
      ]
    },
    {
      "cell_type": "code",
      "source": [
        "large = lambda a, b : a if a > b else b\n",
        "\n",
        "large(54,2)"
      ],
      "metadata": {
        "colab": {
          "base_uri": "https://localhost:8080/"
        },
        "id": "4EC7nUhu_qS_",
        "outputId": "3d774678-7517-4a20-fee4-e5d71ebc336c"
      },
      "execution_count": null,
      "outputs": [
        {
          "output_type": "execute_result",
          "data": {
            "text/plain": [
              "54"
            ]
          },
          "metadata": {},
          "execution_count": 9
        }
      ]
    },
    {
      "cell_type": "code",
      "source": [
        "lst = [(12,45),(2,3),(3,2)]\n",
        "lst.sort()\n",
        "lst"
      ],
      "metadata": {
        "colab": {
          "base_uri": "https://localhost:8080/"
        },
        "id": "NLvB68X1_4FL",
        "outputId": "14ca8336-5351-428f-c5be-c89dbdc68c2e"
      },
      "execution_count": null,
      "outputs": [
        {
          "output_type": "execute_result",
          "data": {
            "text/plain": [
              "[(2, 3), (3, 2), (12, 45)]"
            ]
          },
          "metadata": {},
          "execution_count": 10
        }
      ]
    },
    {
      "cell_type": "code",
      "source": [
        "def k(x):\n",
        "  return x[1]"
      ],
      "metadata": {
        "id": "jly2mhRDABOV"
      },
      "execution_count": null,
      "outputs": []
    },
    {
      "cell_type": "code",
      "source": [
        "lst.sort(key = k)"
      ],
      "metadata": {
        "id": "InzIHAT5AF2O"
      },
      "execution_count": null,
      "outputs": []
    },
    {
      "cell_type": "code",
      "source": [
        "lst"
      ],
      "metadata": {
        "colab": {
          "base_uri": "https://localhost:8080/"
        },
        "id": "HHQwLNGEAJ92",
        "outputId": "3160f2db-851a-4f0f-e1dd-27ce78e3fea3"
      },
      "execution_count": null,
      "outputs": [
        {
          "output_type": "execute_result",
          "data": {
            "text/plain": [
              "[(2, 3), (3, 2), (12, 45)]"
            ]
          },
          "metadata": {},
          "execution_count": 11
        }
      ]
    },
    {
      "cell_type": "code",
      "source": [
        "lst.sort(key = lambda x : x[1])\n",
        "lst"
      ],
      "metadata": {
        "colab": {
          "base_uri": "https://localhost:8080/"
        },
        "id": "RTy9BzsAAWK2",
        "outputId": "e9f5ce7b-48f3-4454-bf5d-ce2e7b6edf58"
      },
      "execution_count": null,
      "outputs": [
        {
          "output_type": "execute_result",
          "data": {
            "text/plain": [
              "[(3, 2), (2, 3), (12, 45)]"
            ]
          },
          "metadata": {},
          "execution_count": 12
        }
      ]
    },
    {
      "cell_type": "code",
      "source": [
        "#Challenge : Write a Python function to print the even numbers from a given list.\n",
        "#input - [1,2,4,3,5,6]\n",
        "#output - 2 4 6\n",
        "\n",
        "def even(li):\n",
        "  #Iterate on the list li\n",
        "  for i in li:\n",
        "    #Check for even elements\n",
        "    if i % 2 == 0:\n",
        "      print(i, end=\" \")\n",
        "\n",
        "lst = [1,2,4,3,5,6]\n",
        "even(lst)\n"
      ],
      "metadata": {
        "colab": {
          "base_uri": "https://localhost:8080/"
        },
        "id": "woJV5UShAjmN",
        "outputId": "6426b504-b8ec-4fd2-d866-918f8465f4dd"
      },
      "execution_count": null,
      "outputs": [
        {
          "output_type": "stream",
          "name": "stdout",
          "text": [
            "2 4 6 "
          ]
        }
      ]
    },
    {
      "cell_type": "code",
      "source": [
        "#Challenge : Write a Python function that takes a list and returns a new list with unique elements of the first list\n",
        "#input - [1,2,3,1,2,4]\n",
        "#output - [1,2,3,4]\n",
        "\n",
        "lst = [1,2,3,1,2,4]\n",
        "\n",
        "def unique(li):\n",
        "  new = []\n",
        "  #Iterate on the li list\n",
        "  for i in li:\n",
        "    #We are adding only unique elements in new list\n",
        "    if i not in new:\n",
        "      new.append(i)\n",
        "\n",
        "  #return new list\n",
        "  return new\n",
        "\n",
        "unique(lst)\n"
      ],
      "metadata": {
        "colab": {
          "base_uri": "https://localhost:8080/"
        },
        "id": "0H-TCLEpBC7r",
        "outputId": "9548a483-45de-4cf2-91c4-03746fa78c97"
      },
      "execution_count": null,
      "outputs": [
        {
          "output_type": "execute_result",
          "data": {
            "text/plain": [
              "[1, 2, 3, 4]"
            ]
          },
          "metadata": {},
          "execution_count": 20
        }
      ]
    },
    {
      "cell_type": "code",
      "source": [
        "12 not in lst"
      ],
      "metadata": {
        "colab": {
          "base_uri": "https://localhost:8080/"
        },
        "id": "yK4IoSNYCuEY",
        "outputId": "dde307bb-fbbc-4f72-cc2f-9d0a353d843d"
      },
      "execution_count": null,
      "outputs": [
        {
          "output_type": "execute_result",
          "data": {
            "text/plain": [
              "True"
            ]
          },
          "metadata": {},
          "execution_count": 21
        }
      ]
    },
    {
      "cell_type": "code",
      "source": [
        "#Arguments vs Parameters\n",
        "#Parameters : The values we pass while defining a function\n",
        "#Arguments : The actual value of we pass when calling a function\n",
        "\n",
        "#This name variable is known as parameter\n",
        "\n",
        "def func(name):\n",
        "  print(\"Hey my name is\",name)\n",
        "\n",
        "#Calling the function\n",
        "#The actual value is known as agument\n",
        "\n",
        "func(\"Rahul\")"
      ],
      "metadata": {
        "colab": {
          "base_uri": "https://localhost:8080/"
        },
        "id": "Fs_h0rPnDSQN",
        "outputId": "ab3e8bfe-2362-4ccf-90e7-e6ff2bbbdfbd"
      },
      "execution_count": null,
      "outputs": [
        {
          "output_type": "stream",
          "name": "stdout",
          "text": [
            "Hey my name is Rahul\n"
          ]
        }
      ]
    },
    {
      "cell_type": "code",
      "source": [
        "#Positional Arguments\n",
        "#The value you pass when calling a function are matched according to their positions\n",
        "\n",
        "def intro(name, hobby):\n",
        "  print(\"Hey my name is\",name)\n",
        "  print(\"And my hobby is\",hobby)\n",
        "\n",
        "intro(\"Rahul\",\"Cycling\")"
      ],
      "metadata": {
        "colab": {
          "base_uri": "https://localhost:8080/"
        },
        "id": "DeeOhJGBD-Pg",
        "outputId": "4238d0fd-b1b3-4f7f-f147-b79c498be84e"
      },
      "execution_count": null,
      "outputs": [
        {
          "output_type": "stream",
          "name": "stdout",
          "text": [
            "Hey my name is Rahul\n",
            "And my hobby is Cycling\n"
          ]
        }
      ]
    },
    {
      "cell_type": "code",
      "source": [
        "#Default arguments\n",
        "#Giving default values to the parameters\n",
        "#For these parameters passing value in arguments is optional\n",
        "\n",
        "def intro(name, hobby = \"Reading\"):\n",
        "  print(\"Hey my name is\",name)\n",
        "  print(\"And my hobby is\",hobby)\n",
        "\n",
        "intro(\"Rahul\")"
      ],
      "metadata": {
        "colab": {
          "base_uri": "https://localhost:8080/"
        },
        "id": "T24jkwxbHIVt",
        "outputId": "710bec6b-87fa-463d-9d06-b3d748a20c32"
      },
      "execution_count": null,
      "outputs": [
        {
          "output_type": "stream",
          "name": "stdout",
          "text": [
            "Hey my name is Rahul\n",
            "And my hobby is Reading\n"
          ]
        }
      ]
    },
    {
      "cell_type": "code",
      "source": [
        "#Positioning of default and non-default arguments\n",
        "\n",
        "def intro(name = \"Rahul\",hobby):\n",
        "  print(\"Hey my name is\",name)\n",
        "  print(\"And my hobby is\",hobby)"
      ],
      "metadata": {
        "colab": {
          "base_uri": "https://localhost:8080/",
          "height": 106
        },
        "id": "JHCJV8mFJ8RA",
        "outputId": "8fc97f04-d30a-4b50-9108-faa70199bbb9"
      },
      "execution_count": null,
      "outputs": [
        {
          "output_type": "error",
          "ename": "SyntaxError",
          "evalue": "non-default argument follows default argument (<ipython-input-25-cc866a996a30>, line 3)",
          "traceback": [
            "\u001b[0;36m  File \u001b[0;32m\"<ipython-input-25-cc866a996a30>\"\u001b[0;36m, line \u001b[0;32m3\u001b[0m\n\u001b[0;31m    def intro(name = \"Rahul\",hobby):\u001b[0m\n\u001b[0m                             ^\u001b[0m\n\u001b[0;31mSyntaxError\u001b[0m\u001b[0;31m:\u001b[0m non-default argument follows default argument\n"
          ]
        }
      ]
    },
    {
      "cell_type": "code",
      "source": [
        "#Arbitrary Arguments\n",
        "#When number of values you want to pass is not known\n",
        "#Like we pass multiple values in print function\n",
        "#The values are being stored in tuple\n",
        "\n",
        "def test(*args):\n",
        "  #print(args)\n",
        "  print(type(args))\n",
        "\n",
        "  #Iterate and print\n",
        "  for i in args:\n",
        "    print(i*i,end=\" \")\n",
        "\n",
        "test(1,2,3,4)"
      ],
      "metadata": {
        "colab": {
          "base_uri": "https://localhost:8080/"
        },
        "id": "QH-11GEnJ7zC",
        "outputId": "a7e891c9-263c-4664-e211-e2a03e277c27"
      },
      "execution_count": null,
      "outputs": [
        {
          "output_type": "stream",
          "name": "stdout",
          "text": [
            "<class 'tuple'>\n",
            "1 4 9 16 "
          ]
        }
      ]
    },
    {
      "cell_type": "code",
      "source": [
        "#Keyword arguments\n",
        "#Variable number of kew word arguments\n",
        "#It stores the data in dictionary format\n",
        "\n",
        "def intro(**kwargs):\n",
        "  #print(kwargs)\n",
        "  print(type(kwargs))\n",
        "\n",
        "  for key, values in kwargs.items():\n",
        "    print(key,values, sep=\" : \")\n",
        "\n",
        "intro(name = \"Rahul\", age = 25, hobbies = [\"Swimming\",\"Read\",\"Cycling\"])"
      ],
      "metadata": {
        "colab": {
          "base_uri": "https://localhost:8080/"
        },
        "id": "d_HhsZTzMETd",
        "outputId": "35f35243-d251-4e16-bf36-c496fd9f6502"
      },
      "execution_count": null,
      "outputs": [
        {
          "output_type": "stream",
          "name": "stdout",
          "text": [
            "<class 'dict'>\n",
            "name : Rahul\n",
            "age : 25\n",
            "hobbies : ['Swimming', 'Read', 'Cycling']\n"
          ]
        }
      ]
    },
    {
      "cell_type": "code",
      "source": [
        "def mix(a ,b ,c, age = 25, *args, **kwargs):\n",
        "  print(a,b,c)\n",
        "  print(age)\n",
        "  print(args)\n",
        "  print(kwargs)\n",
        "\n",
        "mix(2, 4, 5, 45, 6, 8, 9, name=\"rahul\", hobby=\"swimming\")"
      ],
      "metadata": {
        "colab": {
          "base_uri": "https://localhost:8080/"
        },
        "id": "9FqEwkybQAFL",
        "outputId": "b5ae01b4-1c26-4e4a-b5b1-e14936b051ce"
      },
      "execution_count": null,
      "outputs": [
        {
          "output_type": "stream",
          "name": "stdout",
          "text": [
            "2 4 5\n",
            "45\n",
            "(6, 8, 9)\n",
            "{'name': 'rahul', 'hobby': 'swimming'}\n"
          ]
        }
      ]
    },
    {
      "cell_type": "code",
      "source": [
        "def intro(**kwargs, *args):\n",
        "  print(agrs)\n",
        "  print(kwargs)"
      ],
      "metadata": {
        "colab": {
          "base_uri": "https://localhost:8080/",
          "height": 106
        },
        "id": "waKz55ZzQywl",
        "outputId": "e00ef449-bdb7-4e14-b0dc-b01b16ac2f92"
      },
      "execution_count": null,
      "outputs": [
        {
          "output_type": "error",
          "ename": "SyntaxError",
          "evalue": "invalid syntax (<ipython-input-47-6e0fcf668897>, line 1)",
          "traceback": [
            "\u001b[0;36m  File \u001b[0;32m\"<ipython-input-47-6e0fcf668897>\"\u001b[0;36m, line \u001b[0;32m1\u001b[0m\n\u001b[0;31m    def intro(**kwargs, *args):\u001b[0m\n\u001b[0m                        ^\u001b[0m\n\u001b[0;31mSyntaxError\u001b[0m\u001b[0;31m:\u001b[0m invalid syntax\n"
          ]
        }
      ]
    },
    {
      "cell_type": "code",
      "source": [
        "def intro(*args,**kwargs):\n",
        "  print(agrs)\n",
        "  print(kwargs)"
      ],
      "metadata": {
        "id": "O11tgoQ-Q8uP"
      },
      "execution_count": null,
      "outputs": []
    },
    {
      "cell_type": "code",
      "source": [
        "def convert(t):\n",
        "    return t*9/5 + 32\n",
        "\n",
        "print(convert(20))"
      ],
      "metadata": {
        "colab": {
          "base_uri": "https://localhost:8080/"
        },
        "id": "jm5H3KyVSBxQ",
        "outputId": "2dc991bd-17c1-4b2c-ad7b-6eba0e39d9c6"
      },
      "execution_count": null,
      "outputs": [
        {
          "output_type": "stream",
          "name": "stdout",
          "text": [
            "68.0\n"
          ]
        }
      ]
    },
    {
      "cell_type": "code",
      "source": [
        "#OOPs(Object Oriented Programming)\n",
        "#The principles of OOPs are based on 4 pillars apart from Class and Objects\n",
        "#A class hass attributes and behaivour\n",
        "\n",
        "#Abstraction - displaying only essential information and hiding the details. eg - car will accletate but internal working of enginge not exposed\n",
        "\n",
        "#Encapsulation - Bundling of data into a single unit. Bundling of all methods that can act on an object of the data, Car can have colors, brake, engine adn a lot of other methods\n",
        "\n",
        "#Inheritance - When a class derives from another class. Any new car company can inherit all the information from car class\n",
        "\n",
        "#Polymorphism - mean having many forms. Same class method can work differently for different objects.\n"
      ],
      "metadata": {
        "id": "ZdTcREjiS510"
      },
      "execution_count": null,
      "outputs": []
    },
    {
      "cell_type": "code",
      "source": [
        "#Creating Classes - blueprint to create objects, class keyword is used to create classes. By general conversation we start name wwith capital letter\n",
        "#eg - int, float, string etc\n",
        "\n",
        "class Car:\n",
        "  pass"
      ],
      "metadata": {
        "id": "R3uQA5eibJp0"
      },
      "execution_count": null,
      "outputs": []
    },
    {
      "cell_type": "code",
      "source": [
        "#Objects - instances or entities of a class. Has all the properties of its class\n",
        "#eg - 1,2 are objects of int class\n",
        "\n",
        "honda = Car()\n",
        "type(honda)"
      ],
      "metadata": {
        "colab": {
          "base_uri": "https://localhost:8080/"
        },
        "id": "TlhDfTK_biUa",
        "outputId": "929e43bf-4528-45c2-c026-a504df73ada5"
      },
      "execution_count": null,
      "outputs": [
        {
          "output_type": "execute_result",
          "data": {
            "text/plain": [
              "__main__.Car"
            ]
          },
          "metadata": {},
          "execution_count": 53
        }
      ]
    },
    {
      "cell_type": "code",
      "source": [
        "type(1)"
      ],
      "metadata": {
        "colab": {
          "base_uri": "https://localhost:8080/"
        },
        "id": "CBI3zOtrb9MR",
        "outputId": "8fd3c911-1a3a-4dbe-be87-d879ca9d78ff"
      },
      "execution_count": null,
      "outputs": [
        {
          "output_type": "execute_result",
          "data": {
            "text/plain": [
              "int"
            ]
          },
          "metadata": {},
          "execution_count": 54
        }
      ]
    },
    {
      "cell_type": "code",
      "source": [
        "#Constructor : used to create and initialize an object of a class. Defined in the class. Executed automatically at the time of object creation.\n",
        "\n",
        "\n",
        "class Human:\n",
        "  #I want some properties to be with every Human objects\n",
        "  #Dunder __\n",
        "\n",
        "  def __init__(self, name, age, hobby):\n",
        "    self.name = name\n",
        "    self.age = age\n",
        "    self.hobby = hobby\n",
        "\n",
        "rahul = Human(\"Rahul\",25,\"Swimming\")\n",
        "emma = Human(\"Emma\",34,\"Reading\")"
      ],
      "metadata": {
        "id": "WjCmi9yJb_p2"
      },
      "execution_count": null,
      "outputs": []
    },
    {
      "cell_type": "code",
      "source": [
        "print(rahul) #Memory allocation"
      ],
      "metadata": {
        "colab": {
          "base_uri": "https://localhost:8080/"
        },
        "id": "ow1oF50gcztH",
        "outputId": "b525e72f-3912-431e-ba4f-703e5f7b23ee"
      },
      "execution_count": null,
      "outputs": [
        {
          "output_type": "stream",
          "name": "stdout",
          "text": [
            "<__main__.Human object at 0x7b8d22bf96f0>\n"
          ]
        }
      ]
    },
    {
      "cell_type": "code",
      "source": [
        "rahul.name\n",
        "rahul.hobby"
      ],
      "metadata": {
        "colab": {
          "base_uri": "https://localhost:8080/",
          "height": 36
        },
        "id": "sSzi7eMOdeJL",
        "outputId": "5830c39d-b41d-40c6-f44e-469743a0f2d1"
      },
      "execution_count": null,
      "outputs": [
        {
          "output_type": "execute_result",
          "data": {
            "text/plain": [
              "'Swimming'"
            ],
            "application/vnd.google.colaboratory.intrinsic+json": {
              "type": "string"
            }
          },
          "metadata": {},
          "execution_count": 64
        }
      ]
    },
    {
      "cell_type": "code",
      "source": [
        "emma.name"
      ],
      "metadata": {
        "colab": {
          "base_uri": "https://localhost:8080/",
          "height": 36
        },
        "id": "yxpaNf5odhTJ",
        "outputId": "2de5db13-05e3-4d82-c25d-c77aa04ac2f4"
      },
      "execution_count": null,
      "outputs": [
        {
          "output_type": "execute_result",
          "data": {
            "text/plain": [
              "'Emma'"
            ],
            "application/vnd.google.colaboratory.intrinsic+json": {
              "type": "string"
            }
          },
          "metadata": {},
          "execution_count": 68
        }
      ]
    },
    {
      "cell_type": "code",
      "source": [
        "#Methods - apart from special methods you can make your custom methods. eg - Humans can speak, greet etc.\n",
        "\n",
        "class Human:\n",
        "  #Constructor\n",
        "  def __init__(self,name,age,hobby):\n",
        "    #These are known as attributes of an object\n",
        "    self.name = name\n",
        "    self.age = age\n",
        "    self.hobby = hobby\n",
        "\n",
        "  def greet(self):\n",
        "    print(f\"Hey my name is {self.name}. Good morning\")\n",
        "\n",
        "rahul = Human(\"rahul\",25,\"swimming\")\n",
        "rahul.greet()"
      ],
      "metadata": {
        "colab": {
          "base_uri": "https://localhost:8080/"
        },
        "id": "J4c3h8imdtiT",
        "outputId": "cbf26ba6-f4f4-491d-8b5a-58af88524232"
      },
      "execution_count": null,
      "outputs": [
        {
          "output_type": "stream",
          "name": "stdout",
          "text": [
            "Hey my name is rahul. Good morning\n"
          ]
        }
      ]
    },
    {
      "cell_type": "code",
      "source": [
        "#Class Variables\n",
        "#These are common to the class\n",
        "#eg - population of Human class is common to all objects\n",
        "\n",
        "class Human:\n",
        "  #Class variables\n",
        "  population = 0\n",
        "  data = []\n",
        "\n",
        "  #Constructor\n",
        "  def __init__(self,name,age):\n",
        "    #These are known as attributes of an object\n",
        "    self.name = name\n",
        "    self.age = age\n",
        "\n",
        "    #Increment population for every new Human object\n",
        "    Human.population += 1\n",
        "    Human.data.append(self.name)\n",
        "\n",
        "  #Methods\n",
        "\n",
        "  def greet(self):\n",
        "    print(f\"Hey my name is {self.name}. Good morning\")\n",
        "\n",
        "rahul = Human(\"Rahul\", 35)"
      ],
      "metadata": {
        "id": "Aq-zYQfjfKpT"
      },
      "execution_count": null,
      "outputs": []
    },
    {
      "cell_type": "code",
      "source": [
        "rahul.name"
      ],
      "metadata": {
        "colab": {
          "base_uri": "https://localhost:8080/",
          "height": 36
        },
        "id": "Pj6OiCz8t5E6",
        "outputId": "fb47913e-a457-43bc-cab1-6e33941d0bc7"
      },
      "execution_count": null,
      "outputs": [
        {
          "output_type": "execute_result",
          "data": {
            "text/plain": [
              "'rahul'"
            ],
            "application/vnd.google.colaboratory.intrinsic+json": {
              "type": "string"
            }
          },
          "metadata": {},
          "execution_count": 4
        }
      ]
    },
    {
      "cell_type": "code",
      "source": [
        "Human.population"
      ],
      "metadata": {
        "colab": {
          "base_uri": "https://localhost:8080/"
        },
        "id": "xElHp5lGt992",
        "outputId": "58681c46-c42c-406a-bf8a-46f0187be0bd"
      },
      "execution_count": null,
      "outputs": [
        {
          "output_type": "execute_result",
          "data": {
            "text/plain": [
              "0"
            ]
          },
          "metadata": {},
          "execution_count": 9
        }
      ]
    },
    {
      "cell_type": "code",
      "source": [
        "rahul.population"
      ],
      "metadata": {
        "colab": {
          "base_uri": "https://localhost:8080/"
        },
        "id": "uR6q3GKSuaB0",
        "outputId": "21fac557-1725-42c5-d09a-bc2b3d77e621"
      },
      "execution_count": null,
      "outputs": [
        {
          "output_type": "execute_result",
          "data": {
            "text/plain": [
              "1"
            ]
          },
          "metadata": {},
          "execution_count": 10
        }
      ]
    },
    {
      "cell_type": "code",
      "source": [
        "emma = Human(\"Emma\",32)\n",
        "emma.population"
      ],
      "metadata": {
        "colab": {
          "base_uri": "https://localhost:8080/"
        },
        "id": "mjcRtrO9ubvE",
        "outputId": "210864f3-8558-426f-80e7-284dec24be33"
      },
      "execution_count": null,
      "outputs": [
        {
          "output_type": "execute_result",
          "data": {
            "text/plain": [
              "1"
            ]
          },
          "metadata": {},
          "execution_count": 12
        }
      ]
    },
    {
      "cell_type": "code",
      "source": [
        "Human.population"
      ],
      "metadata": {
        "colab": {
          "base_uri": "https://localhost:8080/"
        },
        "id": "O55E_l1Ru4ls",
        "outputId": "8f22829e-31bd-446f-8569-d942c6489c90"
      },
      "execution_count": null,
      "outputs": [
        {
          "output_type": "execute_result",
          "data": {
            "text/plain": [
              "0"
            ]
          },
          "metadata": {},
          "execution_count": 13
        }
      ]
    },
    {
      "cell_type": "code",
      "source": [
        "#More methods\n",
        "\n",
        "class Human:\n",
        "  #Class variables\n",
        "  population = 0\n",
        "  data = []\n",
        "\n",
        "  #Constructor\n",
        "  def __init__(self, name, age, alive = True):\n",
        "\n",
        "    #These are known as attributes of an object\n",
        "    self.name = name\n",
        "    self.age = age\n",
        "    self.alive = alive\n",
        "\n",
        "    #Increment population for every new Human object\n",
        "    Human.population += 1\n",
        "    Human.data.append(self.name)\n",
        "\n",
        "  #Methods\n",
        "\n",
        "  def greet(self):\n",
        "    print(f\"Hey my name is {self.name}. Good morning\")\n",
        "\n",
        "  def dead(self):\n",
        "    if self.alive:\n",
        "      print(self.name,\"is no more now.\")\n",
        "      Human.population -= 1\n",
        "      self.alive = False\n",
        "    else:\n",
        "      print(\"This person is already dead\")\n",
        "\n",
        "  def child(self, number):\n",
        "      Human.population += number\n"
      ],
      "metadata": {
        "id": "7VmFvRAnx02B"
      },
      "execution_count": null,
      "outputs": []
    },
    {
      "cell_type": "code",
      "source": [
        "h1 = Human(\"H1\",70)\n",
        "h2 = Human(\"H2\",60)"
      ],
      "metadata": {
        "id": "ARwgeee7zwoS"
      },
      "execution_count": null,
      "outputs": []
    },
    {
      "cell_type": "code",
      "source": [
        "Human.population"
      ],
      "metadata": {
        "colab": {
          "base_uri": "https://localhost:8080/"
        },
        "id": "_Cv7zqSgz6Sb",
        "outputId": "6e1da102-a1d7-4c7c-f942-509e1876ac63"
      },
      "execution_count": null,
      "outputs": [
        {
          "output_type": "execute_result",
          "data": {
            "text/plain": [
              "2"
            ]
          },
          "metadata": {},
          "execution_count": 21
        }
      ]
    },
    {
      "cell_type": "code",
      "source": [
        "h1.dead()"
      ],
      "metadata": {
        "colab": {
          "base_uri": "https://localhost:8080/"
        },
        "id": "oD6eqR7m0O6U",
        "outputId": "00969ab4-d8ba-4f81-bb81-7ef1ae2084e8"
      },
      "execution_count": null,
      "outputs": [
        {
          "output_type": "stream",
          "name": "stdout",
          "text": [
            "H1 is no more now.\n"
          ]
        }
      ]
    },
    {
      "cell_type": "code",
      "source": [
        "h1.dead()"
      ],
      "metadata": {
        "colab": {
          "base_uri": "https://localhost:8080/"
        },
        "id": "ZF1RqL9D0SNP",
        "outputId": "f1dce6f4-76c4-4f38-a156-2af074eaf83d"
      },
      "execution_count": null,
      "outputs": [
        {
          "output_type": "stream",
          "name": "stdout",
          "text": [
            "This person is already dead\n"
          ]
        }
      ]
    },
    {
      "cell_type": "code",
      "source": [
        "h3 = Human(\"Adam\",25)"
      ],
      "metadata": {
        "id": "hx6gKZJcNAe_"
      },
      "execution_count": null,
      "outputs": []
    },
    {
      "cell_type": "code",
      "source": [
        "Human.population"
      ],
      "metadata": {
        "colab": {
          "base_uri": "https://localhost:8080/"
        },
        "id": "3KaccrfSMrQb",
        "outputId": "69c014a7-94de-468e-b924-b7781c540082"
      },
      "execution_count": null,
      "outputs": [
        {
          "output_type": "execute_result",
          "data": {
            "text/plain": [
              "2"
            ]
          },
          "metadata": {},
          "execution_count": 8
        }
      ]
    },
    {
      "cell_type": "code",
      "source": [
        "h3.child(2)"
      ],
      "metadata": {
        "id": "ZcZtnWxJNQFB"
      },
      "execution_count": null,
      "outputs": []
    },
    {
      "cell_type": "code",
      "source": [
        "Human.population"
      ],
      "metadata": {
        "colab": {
          "base_uri": "https://localhost:8080/"
        },
        "id": "puaBbVYVNSUt",
        "outputId": "a244e2a5-8d02-4400-ac16-4fa8c4b7b78e"
      },
      "execution_count": null,
      "outputs": [
        {
          "output_type": "execute_result",
          "data": {
            "text/plain": [
              "4"
            ]
          },
          "metadata": {},
          "execution_count": 11
        }
      ]
    },
    {
      "cell_type": "code",
      "source": [
        "#Inheritance - When a class derives attributes and methods from other class\n",
        "#It gets access to all its methods and attributes\n",
        "#This helps in resuability of code\n",
        "\n",
        "#Human is base class\n",
        "#Employee is Derived class\n",
        "\n",
        "class Employee(Human):\n",
        "\n",
        "\n",
        "    #Re-initiate constructor\n",
        "  def __init__(self,name, age, company,post):\n",
        "    super().__init__(name,age, company, post)\n",
        "\n",
        "    #Attributes for employee class\n",
        "    self.company = company\n",
        "    self.post = post\n",
        "\n",
        "    #Add some attributes\n",
        "  def hire(self, person):\n",
        "    print(f\"{person} has been hired in our company\")\n",
        "    Human.data.append(person)\n",
        "    Human.population += 1\n"
      ],
      "metadata": {
        "id": "Y2_mGEYJNW8_"
      },
      "execution_count": null,
      "outputs": []
    },
    {
      "cell_type": "code",
      "source": [
        "e1 = Employee(\"Mark\",34)"
      ],
      "metadata": {
        "id": "ZFfJWvSFwiXq"
      },
      "execution_count": null,
      "outputs": []
    },
    {
      "cell_type": "code",
      "source": [
        "Human.population"
      ],
      "metadata": {
        "colab": {
          "base_uri": "https://localhost:8080/"
        },
        "id": "YQnCFZK5wvJR",
        "outputId": "e7034f21-f0ca-4ea7-a67f-a6f0993fbffd"
      },
      "execution_count": null,
      "outputs": [
        {
          "output_type": "execute_result",
          "data": {
            "text/plain": [
              "3"
            ]
          },
          "metadata": {},
          "execution_count": 9
        }
      ]
    },
    {
      "cell_type": "code",
      "source": [
        "e1.greet()"
      ],
      "metadata": {
        "colab": {
          "base_uri": "https://localhost:8080/"
        },
        "id": "suQKef1cw08u",
        "outputId": "547022c3-2e38-444d-e263-68402f50d0c4"
      },
      "execution_count": null,
      "outputs": [
        {
          "output_type": "stream",
          "name": "stdout",
          "text": [
            "Hey my name is Mark. Good morning\n"
          ]
        }
      ]
    },
    {
      "cell_type": "code",
      "source": [
        "rahul = Human(\"Rahul\", 35)"
      ],
      "metadata": {
        "id": "0A2QPe-IxJ7W"
      },
      "execution_count": null,
      "outputs": []
    },
    {
      "cell_type": "code",
      "source": [
        "Human.population"
      ],
      "metadata": {
        "colab": {
          "base_uri": "https://localhost:8080/"
        },
        "id": "LYoGtkAyxUGj",
        "outputId": "0eda34e3-b969-456b-9f49-c8e9ba1fe9b4"
      },
      "execution_count": null,
      "outputs": [
        {
          "output_type": "execute_result",
          "data": {
            "text/plain": [
              "5"
            ]
          },
          "metadata": {},
          "execution_count": 18
        }
      ]
    },
    {
      "cell_type": "code",
      "source": [
        "rohit = Employee(\"Rohit\",26,\"Google\",\"CEO\")"
      ],
      "metadata": {
        "colab": {
          "base_uri": "https://localhost:8080/",
          "height": 263
        },
        "id": "mVwxINhJybfF",
        "outputId": "635cb9e4-4a4a-4b8b-a199-d2ceacaf36e6"
      },
      "execution_count": null,
      "outputs": [
        {
          "output_type": "error",
          "ename": "TypeError",
          "evalue": "Human.__init__() takes 4 positional arguments but 5 were given",
          "traceback": [
            "\u001b[0;31m---------------------------------------------------------------------------\u001b[0m",
            "\u001b[0;31mTypeError\u001b[0m                                 Traceback (most recent call last)",
            "\u001b[0;32m<ipython-input-64-14a540b5c47f>\u001b[0m in \u001b[0;36m<cell line: 1>\u001b[0;34m()\u001b[0m\n\u001b[0;32m----> 1\u001b[0;31m \u001b[0mrohit\u001b[0m \u001b[0;34m=\u001b[0m \u001b[0mEmployee\u001b[0m\u001b[0;34m(\u001b[0m\u001b[0;34m\"Rohit\"\u001b[0m\u001b[0;34m,\u001b[0m\u001b[0;36m26\u001b[0m\u001b[0;34m,\u001b[0m\u001b[0;34m\"Google\"\u001b[0m\u001b[0;34m,\u001b[0m\u001b[0;34m\"CEO\"\u001b[0m\u001b[0;34m)\u001b[0m\u001b[0;34m\u001b[0m\u001b[0;34m\u001b[0m\u001b[0m\n\u001b[0m",
            "\u001b[0;32m<ipython-input-63-fb3838c2dfa6>\u001b[0m in \u001b[0;36m__init__\u001b[0;34m(self, name, age, company, post)\u001b[0m\n\u001b[1;32m     11\u001b[0m     \u001b[0;31m#Re-initiate constructor\u001b[0m\u001b[0;34m\u001b[0m\u001b[0;34m\u001b[0m\u001b[0m\n\u001b[1;32m     12\u001b[0m   \u001b[0;32mdef\u001b[0m \u001b[0m__init__\u001b[0m\u001b[0;34m(\u001b[0m\u001b[0mself\u001b[0m\u001b[0;34m,\u001b[0m\u001b[0mname\u001b[0m\u001b[0;34m,\u001b[0m \u001b[0mage\u001b[0m\u001b[0;34m,\u001b[0m \u001b[0mcompany\u001b[0m\u001b[0;34m,\u001b[0m\u001b[0mpost\u001b[0m\u001b[0;34m)\u001b[0m\u001b[0;34m:\u001b[0m\u001b[0;34m\u001b[0m\u001b[0;34m\u001b[0m\u001b[0m\n\u001b[0;32m---> 13\u001b[0;31m     \u001b[0msuper\u001b[0m\u001b[0;34m(\u001b[0m\u001b[0;34m)\u001b[0m\u001b[0;34m.\u001b[0m\u001b[0m__init__\u001b[0m\u001b[0;34m(\u001b[0m\u001b[0mname\u001b[0m\u001b[0;34m,\u001b[0m\u001b[0mage\u001b[0m\u001b[0;34m,\u001b[0m \u001b[0mcompany\u001b[0m\u001b[0;34m,\u001b[0m \u001b[0mpost\u001b[0m\u001b[0;34m)\u001b[0m\u001b[0;34m\u001b[0m\u001b[0;34m\u001b[0m\u001b[0m\n\u001b[0m\u001b[1;32m     14\u001b[0m \u001b[0;34m\u001b[0m\u001b[0m\n\u001b[1;32m     15\u001b[0m     \u001b[0;31m#Attributes for employee class\u001b[0m\u001b[0;34m\u001b[0m\u001b[0;34m\u001b[0m\u001b[0m\n",
            "\u001b[0;31mTypeError\u001b[0m: Human.__init__() takes 4 positional arguments but 5 were given"
          ]
        }
      ]
    },
    {
      "cell_type": "code",
      "source": [
        "rohit.post"
      ],
      "metadata": {
        "colab": {
          "base_uri": "https://localhost:8080/",
          "height": 36
        },
        "id": "2RR0fMp-zBc5",
        "outputId": "7fbfa991-c706-4878-d334-3b5f9a924bd9"
      },
      "execution_count": null,
      "outputs": [
        {
          "output_type": "execute_result",
          "data": {
            "text/plain": [
              "'CEO'"
            ],
            "application/vnd.google.colaboratory.intrinsic+json": {
              "type": "string"
            }
          },
          "metadata": {},
          "execution_count": 19
        }
      ]
    },
    {
      "cell_type": "code",
      "source": [
        "Human.data"
      ],
      "metadata": {
        "colab": {
          "base_uri": "https://localhost:8080/"
        },
        "id": "21GnBpwH1HT5",
        "outputId": "965ed8e0-9f2c-4392-b722-0ed5f0d0318c"
      },
      "execution_count": null,
      "outputs": [
        {
          "output_type": "execute_result",
          "data": {
            "text/plain": [
              "['Mark', 'H1', 'H2', 'Rahul', 'Rohit']"
            ]
          },
          "metadata": {},
          "execution_count": 22
        }
      ]
    },
    {
      "cell_type": "code",
      "source": [
        "rohit.hire(\"Harry\")"
      ],
      "metadata": {
        "colab": {
          "base_uri": "https://localhost:8080/"
        },
        "id": "wOrjAeYR1Mfp",
        "outputId": "55692207-80f3-4bed-bbfe-794cd075fa28"
      },
      "execution_count": null,
      "outputs": [
        {
          "output_type": "stream",
          "name": "stdout",
          "text": [
            "Harry has been hired in our company\n"
          ]
        }
      ]
    },
    {
      "cell_type": "code",
      "source": [
        "Human.data"
      ],
      "metadata": {
        "colab": {
          "base_uri": "https://localhost:8080/"
        },
        "id": "V1Un8GmS3f--",
        "outputId": "d42f97b6-540d-4b26-b8f5-e67d7215fd94"
      },
      "execution_count": null,
      "outputs": [
        {
          "output_type": "execute_result",
          "data": {
            "text/plain": [
              "['Mark', 'H1', 'H2', 'Rahul', 'Rohit', 'Rohit', 'Harry']"
            ]
          },
          "metadata": {},
          "execution_count": 37
        }
      ]
    },
    {
      "cell_type": "code",
      "source": [
        "rohit.dead()"
      ],
      "metadata": {
        "colab": {
          "base_uri": "https://localhost:8080/"
        },
        "id": "4Y7QdeUl3o8P",
        "outputId": "e2c4fc63-c1b9-4598-f634-b8f94a3631d5"
      },
      "execution_count": null,
      "outputs": [
        {
          "output_type": "stream",
          "name": "stdout",
          "text": [
            "Rohit is no more now.\n"
          ]
        }
      ]
    },
    {
      "cell_type": "code",
      "source": [
        "Human.data"
      ],
      "metadata": {
        "colab": {
          "base_uri": "https://localhost:8080/"
        },
        "id": "ogEoSsx13oz2",
        "outputId": "bdbafe2a-e519-4f49-b6f9-21aca3578498"
      },
      "execution_count": null,
      "outputs": [
        {
          "output_type": "execute_result",
          "data": {
            "text/plain": [
              "['Mark', 'H1', 'H2', 'Rahul', 'Rohit', 'Rohit', 'Harry']"
            ]
          },
          "metadata": {},
          "execution_count": 39
        }
      ]
    },
    {
      "cell_type": "code",
      "source": [
        "Human.population"
      ],
      "metadata": {
        "colab": {
          "base_uri": "https://localhost:8080/"
        },
        "id": "8Ebg6AOF3xGP",
        "outputId": "a21238e2-98ef-4786-d8ef-4902ede9322f"
      },
      "execution_count": null,
      "outputs": [
        {
          "output_type": "execute_result",
          "data": {
            "text/plain": [
              "6"
            ]
          },
          "metadata": {},
          "execution_count": 40
        }
      ]
    },
    {
      "cell_type": "code",
      "source": [
        "#Polymorphism : having many forms, same class method can work defferently for different objects\n",
        "#Operators level for polymorphism\n",
        "\n",
        "a = 2\n",
        "b = 4\n",
        "#Adding\n",
        "a + b\n"
      ],
      "metadata": {
        "colab": {
          "base_uri": "https://localhost:8080/"
        },
        "id": "RZsstrPZ35lH",
        "outputId": "795bac4a-908e-49a6-b6fc-253b241146f7"
      },
      "execution_count": null,
      "outputs": [
        {
          "output_type": "execute_result",
          "data": {
            "text/plain": [
              "6"
            ]
          },
          "metadata": {},
          "execution_count": 41
        }
      ]
    },
    {
      "cell_type": "code",
      "source": [
        "#Concating\n",
        "\"2\" + \"2\""
      ],
      "metadata": {
        "colab": {
          "base_uri": "https://localhost:8080/",
          "height": 36
        },
        "id": "HVc7VYZP4fIh",
        "outputId": "80ada276-e481-4185-d5ed-94569b50fa12"
      },
      "execution_count": null,
      "outputs": [
        {
          "output_type": "execute_result",
          "data": {
            "text/plain": [
              "'22'"
            ],
            "application/vnd.google.colaboratory.intrinsic+json": {
              "type": "string"
            }
          },
          "metadata": {},
          "execution_count": 42
        }
      ]
    },
    {
      "cell_type": "code",
      "source": [
        "#Function level polymorphism\n",
        "# len, sum, custom\n",
        "\n",
        "l = [1,2,3,4]\n",
        "len(l)"
      ],
      "metadata": {
        "colab": {
          "base_uri": "https://localhost:8080/"
        },
        "id": "nQegZ_ms4li8",
        "outputId": "a4cb223c-7b8e-4af6-dfa9-5538a7b932e5"
      },
      "execution_count": null,
      "outputs": [
        {
          "output_type": "execute_result",
          "data": {
            "text/plain": [
              "4"
            ]
          },
          "metadata": {},
          "execution_count": 43
        }
      ]
    },
    {
      "cell_type": "code",
      "source": [
        "len(\"rahul\")"
      ],
      "metadata": {
        "colab": {
          "base_uri": "https://localhost:8080/"
        },
        "id": "N63nIDqV42HX",
        "outputId": "96db682f-16f4-485b-f3cc-ad04273deb64"
      },
      "execution_count": null,
      "outputs": [
        {
          "output_type": "execute_result",
          "data": {
            "text/plain": [
              "5"
            ]
          },
          "metadata": {},
          "execution_count": 44
        }
      ]
    },
    {
      "cell_type": "code",
      "source": [
        "#sum\n",
        "sum(l)"
      ],
      "metadata": {
        "colab": {
          "base_uri": "https://localhost:8080/"
        },
        "id": "YbZ99y2l4530",
        "outputId": "cd34c8f1-d12c-485f-c749-4407b11a46d0"
      },
      "execution_count": null,
      "outputs": [
        {
          "output_type": "execute_result",
          "data": {
            "text/plain": [
              "10"
            ]
          },
          "metadata": {},
          "execution_count": 45
        }
      ]
    },
    {
      "cell_type": "code",
      "source": [
        "def mul(*args):\n",
        "  total = 1\n",
        "  for i in args:\n",
        "    total *= i\n",
        "\n",
        "  return total\n",
        "\n",
        "mul(2,3,4)"
      ],
      "metadata": {
        "colab": {
          "base_uri": "https://localhost:8080/"
        },
        "id": "nI4EENrG4_dW",
        "outputId": "86953ce9-fc8c-464e-f507-786d47b73be9"
      },
      "execution_count": null,
      "outputs": [
        {
          "output_type": "execute_result",
          "data": {
            "text/plain": [
              "24"
            ]
          },
          "metadata": {},
          "execution_count": 48
        }
      ]
    },
    {
      "cell_type": "code",
      "source": [
        "class Human:\n",
        "\n",
        "  def speak(self, language):\n",
        "    print(\"I speak \", language)\n"
      ],
      "metadata": {
        "id": "WOoZa_VS5VO4"
      },
      "execution_count": null,
      "outputs": []
    },
    {
      "cell_type": "code",
      "source": [
        "#File handling\n",
        "#A file is a container in a computer system for storing data\n",
        "#Data is permanently stored in form of text/binary\n",
        "\n",
        "#Opening a file\n",
        "#open : returns a file handle\n",
        "#In order to perform any kind of operation on file first we open"
      ],
      "metadata": {
        "id": "FQNNqfhG6WCL"
      },
      "execution_count": null,
      "outputs": []
    },
    {
      "cell_type": "code",
      "source": [
        "f = open(\"name.txt\")"
      ],
      "metadata": {
        "id": "2a-sDdgCcecq"
      },
      "execution_count": null,
      "outputs": []
    },
    {
      "cell_type": "code",
      "source": [
        "type(f) #_io.TextIOWrapper"
      ],
      "metadata": {
        "id": "0hclAHzvclK0"
      },
      "execution_count": null,
      "outputs": []
    },
    {
      "cell_type": "code",
      "source": [
        "f.closed #False / True"
      ],
      "metadata": {
        "id": "JpZWnxGkc8M0"
      },
      "execution_count": null,
      "outputs": []
    },
    {
      "cell_type": "code",
      "source": [
        "f.read() #'Hello i am Rahul'"
      ],
      "metadata": {
        "id": "u1mUqqeKdBjG"
      },
      "execution_count": null,
      "outputs": []
    },
    {
      "cell_type": "code",
      "source": [
        "f.close()"
      ],
      "metadata": {
        "id": "dkKkx_1bdHa5"
      },
      "execution_count": null,
      "outputs": []
    },
    {
      "cell_type": "code",
      "source": [
        "#Modes of opening a file\n",
        "#'r' : read only\n",
        "#'w' : write only\n",
        "#'a' : appending data at the end of file\n",
        "#'wt' : write text\n",
        "#'wb' : write binary\n",
        "#'rb' : read binary\n",
        "#'rt' : read text\n"
      ],
      "metadata": {
        "id": "sIxoYWdtdZQb"
      },
      "execution_count": null,
      "outputs": []
    },
    {
      "cell_type": "code",
      "source": [
        "f = open(\"name.txt\",\"w\")\n",
        "f.write(\"I am writable now\") #18"
      ],
      "metadata": {
        "id": "6alAvgPSd8xN"
      },
      "execution_count": null,
      "outputs": []
    },
    {
      "cell_type": "code",
      "source": [
        "f.close()"
      ],
      "metadata": {
        "id": "VW0bFw9WeVqL"
      },
      "execution_count": null,
      "outputs": []
    },
    {
      "cell_type": "code",
      "source": [
        "#With open\n",
        "#Most common way to perform operation on files\n",
        "#It closes the file after performing operations\n",
        "\n",
        "with open(\"name.txt\") as f:\n",
        "  print(f.read())\n",
        "\n",
        "#I am writable now"
      ],
      "metadata": {
        "id": "Y3M3ql52eVgB"
      },
      "execution_count": null,
      "outputs": []
    },
    {
      "cell_type": "code",
      "source": [
        "f.closed #True"
      ],
      "metadata": {
        "id": "a35KEf6mhAUE"
      },
      "execution_count": null,
      "outputs": []
    },
    {
      "cell_type": "code",
      "source": [
        "with open(\"name.txt\",\"w\") as f:\n",
        "  f.write(\"hey i am writable\")"
      ],
      "metadata": {
        "id": "A1RbhSECvHXs"
      },
      "execution_count": null,
      "outputs": []
    },
    {
      "cell_type": "code",
      "source": [
        "#Writing in a file\n",
        "#You can write both text and binary file\n",
        "#You can either write or append in a file\n",
        "\n",
        "#We are creating new file here\n",
        "\n",
        "with open(\"new.txt\",\"w\") as f:\n",
        "  f.write(\"Hey new file created\")"
      ],
      "metadata": {
        "id": "_HVLFjt-vPd3"
      },
      "execution_count": null,
      "outputs": []
    },
    {
      "cell_type": "code",
      "source": [
        "#Write in existing file\n",
        "\n",
        "with open(\"new.txt\",\"w\") as f:\n",
        "  f.write(\"This is the updated content of our file \\n\")\n",
        "  f.write(\"This is new line\")"
      ],
      "metadata": {
        "id": "nzaaKZhcv0Wc"
      },
      "execution_count": null,
      "outputs": []
    },
    {
      "cell_type": "code",
      "source": [
        "#Read\n",
        "#using read() method we can read a file\n",
        "#It opens in read only format\n",
        "\n",
        "with open(\"new.txt\",\"r\") as f:\n",
        "  data = f.read()\n",
        "  print(data)\n",
        "\n",
        "#This is the updated content of our file\n",
        "#This is new line"
      ],
      "metadata": {
        "id": "CV9IifBdEUlP"
      },
      "execution_count": null,
      "outputs": []
    },
    {
      "cell_type": "code",
      "source": [
        "#read() : reads the whole data\n",
        "#read(l) : reads data of length l\n",
        "#tell() : tells you about the position of file handle\n",
        "#speak() : it helps to re position your file handle\n",
        "#readline() : reads data line by line"
      ],
      "metadata": {
        "id": "l25-o6NBE5Z_"
      },
      "execution_count": null,
      "outputs": []
    },
    {
      "cell_type": "code",
      "source": [
        "with open(\"new.txt\",\"r\") as f:\n",
        "\n",
        "  #Reading first 4 chr\n",
        "  data = f.read(4)\n",
        "  print(data)\n",
        "\n",
        "  print(f.tell())\n",
        "\n",
        "  #Next 10 chr\n",
        "  data = f.read(10)\n",
        "  print(data)\n",
        "\n",
        "  #tell : tell you the position of your file handle\n",
        "  print(f.tell())\n",
        "\n",
        "  #using seek you can reset your file handler\n",
        "\n",
        "  f.seek(2)\n",
        "  print(f.tell())\n",
        "\n",
        "  print(f.read())\n",
        "\n",
        "#This\n",
        "#4\n",
        "# is the up\n",
        "#14\n",
        "#2\n",
        "#is the updated content of our file\n",
        "#This is new line"
      ],
      "metadata": {
        "id": "asjYm8gxFZV0"
      },
      "execution_count": null,
      "outputs": []
    },
    {
      "cell_type": "code",
      "source": [
        "with open(\"new,txt\",\"r\") as f:\n",
        "  data = f.readlines()\n",
        "  for i in data:\n",
        "    print(data)\n",
        "\n",
        "#This is the updated content of our file\n",
        "#This is new line"
      ],
      "metadata": {
        "id": "vktN7EsIIOrA"
      },
      "execution_count": null,
      "outputs": []
    },
    {
      "cell_type": "code",
      "source": [
        "#Binary data\n",
        "#To read binary data we open file in \"rt\" mode\n",
        "#To write binary data we open file in \"wt\" mode\n",
        "\n",
        "with open(\"rahul.jpeg\",\"rb\") as f:\n",
        "  data = f.read()\n",
        "  print(data)"
      ],
      "metadata": {
        "id": "BCQ_Pv-4JClS"
      },
      "execution_count": null,
      "outputs": []
    },
    {
      "cell_type": "code",
      "source": [
        "with open(\"rahul.jpeg\",\"rb\") as f:\n",
        "  data = f.read()\n",
        "\n",
        "  with open(\"new.jpeg\",\"wb\") as d:\n",
        "    d.write(data)"
      ],
      "metadata": {
        "id": "1U__8LH8JiRc"
      },
      "execution_count": null,
      "outputs": []
    },
    {
      "cell_type": "code",
      "source": [
        "#Append\n",
        "#this mode helps us to append in a file\n",
        "\n",
        "with open(\"name.txt\",\"a\") as f:\n",
        "  f.write(\"This is appended data\")"
      ],
      "metadata": {
        "id": "s7htc6KEJy0u"
      },
      "execution_count": null,
      "outputs": []
    },
    {
      "cell_type": "code",
      "source": [
        "#Errors and Exceptions in Python\n",
        "#When we write a faulty code the execution of program may stop due to the errors\n",
        "#There can be some places where exceptions can be caused\n",
        "#Errors are caused by wrong syntax\n",
        "#Exceptions are logic based wherein syntax is right but logic isn't. Ex: Zero division\n",
        "\n",
        "#Examples of errors - Syntax, Name, Type, File not found, IndentationError, ZeroDivisionError\n",
        "\n",
        "print(dir(__builtins__))"
      ],
      "metadata": {
        "colab": {
          "base_uri": "https://localhost:8080/"
        },
        "id": "fR4FJ_qpKQpP",
        "outputId": "e773dbac-a5a6-4266-c188-10b70c87133b"
      },
      "execution_count": null,
      "outputs": [
        {
          "output_type": "stream",
          "name": "stdout",
          "text": [
            "['ArithmeticError', 'AssertionError', 'AttributeError', 'BaseException', 'BlockingIOError', 'BrokenPipeError', 'BufferError', 'BytesWarning', 'ChildProcessError', 'ConnectionAbortedError', 'ConnectionError', 'ConnectionRefusedError', 'ConnectionResetError', 'DeprecationWarning', 'EOFError', 'Ellipsis', 'EncodingWarning', 'EnvironmentError', 'Exception', 'False', 'FileExistsError', 'FileNotFoundError', 'FloatingPointError', 'FutureWarning', 'GeneratorExit', 'IOError', 'ImportError', 'ImportWarning', 'IndentationError', 'IndexError', 'InterruptedError', 'IsADirectoryError', 'KeyError', 'KeyboardInterrupt', 'LookupError', 'MemoryError', 'ModuleNotFoundError', 'NameError', 'None', 'NotADirectoryError', 'NotImplemented', 'NotImplementedError', 'OSError', 'OverflowError', 'PendingDeprecationWarning', 'PermissionError', 'ProcessLookupError', 'RecursionError', 'ReferenceError', 'ResourceWarning', 'RuntimeError', 'RuntimeWarning', 'StopAsyncIteration', 'StopIteration', 'SyntaxError', 'SyntaxWarning', 'SystemError', 'SystemExit', 'TabError', 'TimeoutError', 'True', 'TypeError', 'UnboundLocalError', 'UnicodeDecodeError', 'UnicodeEncodeError', 'UnicodeError', 'UnicodeTranslateError', 'UnicodeWarning', 'UserWarning', 'ValueError', 'Warning', 'ZeroDivisionError', '__IPYTHON__', '__build_class__', '__debug__', '__doc__', '__import__', '__loader__', '__name__', '__package__', '__spec__', 'abs', 'aiter', 'all', 'anext', 'any', 'ascii', 'bin', 'bool', 'breakpoint', 'bytearray', 'bytes', 'callable', 'chr', 'classmethod', 'compile', 'complex', 'copyright', 'credits', 'delattr', 'dict', 'dir', 'display', 'divmod', 'enumerate', 'eval', 'exec', 'execfile', 'filter', 'float', 'format', 'frozenset', 'get_ipython', 'getattr', 'globals', 'hasattr', 'hash', 'help', 'hex', 'id', 'input', 'int', 'isinstance', 'issubclass', 'iter', 'len', 'license', 'list', 'locals', 'map', 'max', 'memoryview', 'min', 'next', 'object', 'oct', 'open', 'ord', 'pow', 'print', 'property', 'range', 'repr', 'reversed', 'round', 'runfile', 'set', 'setattr', 'slice', 'sorted', 'staticmethod', 'str', 'sum', 'super', 'tuple', 'type', 'vars', 'zip']\n"
          ]
        }
      ]
    },
    {
      "cell_type": "code",
      "source": [
        "#Try and Except\n",
        "#try : This block handles the error in your code if any of it exists\n",
        "#except : This block gives the output that you want to show if your code is faulty\n",
        "\n",
        "a = 5\n",
        "b = 0\n",
        "\n",
        "#Put the suspect code in try block\n",
        "try:\n",
        "  print(a/b)\n",
        "except Exception as e:\n",
        "  print(\"there is an error that you might want to look for\",e)\n",
        "\n",
        "print(\"Hello rahul\")"
      ],
      "metadata": {
        "colab": {
          "base_uri": "https://localhost:8080/"
        },
        "id": "-Yt43diQUx1n",
        "outputId": "2918a8b1-6cb0-46a9-9aba-0c0c39fea484"
      },
      "execution_count": null,
      "outputs": [
        {
          "output_type": "stream",
          "name": "stdout",
          "text": [
            "there is an error that you might want to look for division by zero\n",
            "Hello rahul\n"
          ]
        }
      ]
    },
    {
      "cell_type": "code",
      "source": [
        "#Finally\n",
        "#This block will be executed in any case\n",
        "#It is helpful when you want to de-allocate resources\n",
        "#Like closing a file, or db connection\n",
        "\n",
        "a = 5\n",
        "b = 0\n",
        "\n",
        "try:\n",
        "  print(\"open file\")\n",
        "  print(a/b)\n",
        "except Exception as e:\n",
        "  print(\"Error\",e)\n",
        "finally:\n",
        "  print(\"close file\")"
      ],
      "metadata": {
        "colab": {
          "base_uri": "https://localhost:8080/"
        },
        "id": "tCR6A83bXD3n",
        "outputId": "65e0f708-2d28-41d4-c874-0a24d2c3ac33"
      },
      "execution_count": null,
      "outputs": [
        {
          "output_type": "stream",
          "name": "stdout",
          "text": [
            "open file\n",
            "Error division by zero\n",
            "close file\n"
          ]
        }
      ]
    }
  ]
}